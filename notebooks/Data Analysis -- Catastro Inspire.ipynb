{
 "cells": [
  {
   "cell_type": "markdown",
   "metadata": {},
   "source": [
    "### DATA FROM CATASTRO INSPIRE\n",
    "___________________________________________________________________________________________________\n",
    "\n",
    "Obteined through qGIS after mingling from a while with:\n",
    "- WMS service: http://ovc.catastro.meh.es/cartografia/INSPIRE/spadgcwms.aspx\n",
    "- WFS buildings : http://ovc.catastro.meh.es/INSPIRE/wfsBU.aspx?\n",
    "- todos los serivicios INSPIRE: http://www.catastro.minhap.es/webinspire/index.html\n",
    "\n",
    "*Notas: el uso de los canales WMS/WFS devuelven las capas antes de unificar con el programa Europeo Inspire, por lo que quizá sea la razón por la que no funcionan bien.\n",
    "\n",
    "Existen varios GitHubs enfocados a consultas del catastro con python:\n",
    "- **[pyCatastro](#https://github.com/gisce/pycatastro)**: permite realizar consultas en formato API. \n",
    ">>- No permite la descarga total de datos en función de municipio y provincia\n",
    ">>- Devuelve diccionarios\n",
    ">>- Para descargarme Madrid, debería obtener (1) Todas las vías, (2) Todas las siglas e iterar, haciendo mogollón de llamadas (not a good idea)\n",
    "\n",
    "- **[catastro-lib-python](#https://github.com/sperea/catastro-lib-python)**: parece un antecersor del anterior. No se ha probado pues se dejó de actualizar en 2018\n",
    "- **[Catastro Inspire Downloader](#https://github.com/geomatico/cidownloader)**: realizados por los mismos cartógrafos y desarrolladores que el complemento de qGIS, permite descargar datos en formato .geopackage\n",
    ">>- Permite descargar según provincia, municipio y proyección\n",
    ">>- Es poco consistente: al descargar Madrid a veces devuelve sólo datos de CadastralParcel o de BuildingParts. Comparando con los gmls incluidos en ZIPs que se pueden descargar a parte, los datos son incompletos. Posiblemente se un problema con la librería GDAL.\n"
   ]
  },
  {
   "cell_type": "code",
   "execution_count": 1,
   "metadata": {},
   "outputs": [],
   "source": [
    "import pandas as pd\n",
    "import numpy as np\n",
    "\n",
    "import geopandas as gpd\n",
    "import geojson\n",
    "import folium.folium\n",
    "\n",
    "import seaborn as sns\n",
    "import matplotlib.pyplot as plt\n",
    "import folium\n",
    "\n",
    "%matplotlib inline\n",
    "\n",
    "pd.set_option('display.max_rows', 1000)"
   ]
  },
  {
   "cell_type": "markdown",
   "metadata": {},
   "source": [
    "### CAPAS DISPONIBLES"
   ]
  },
  {
   "cell_type": "markdown",
   "metadata": {},
   "source": [
    "Dada el volumen de datos, la inspección de éstos se realiza sobre una parte de éstos"
   ]
  },
  {
   "cell_type": "code",
   "execution_count": 2,
   "metadata": {},
   "outputs": [],
   "source": [
    "CATASTRO_PATH = '../data/raw/catastro'\n",
    "\n",
    "# Dentro de los datos displibles hay 4 capas en formato geojson\n",
    "\n",
    "building_df = gpd.read_file(f\"{CATASTRO_PATH}/A.ES.SDGC.BU.28900.building.geojson\", rows = 25000)\n",
    "buildingParts_df = gpd.read_file(f\"{CATASTRO_PATH}/A.ES.SDGC.BU.28900.buildingpart.geojson\", rows = 25000) # pt 1\n",
    "otherConstruction_df = gpd.read_file(f\"{CATASTRO_PATH}/A.ES.SDGC.BU.28900.otherconstruction.geojson\", rows = 25000)\n",
    "\n",
    "cadastralParcel = gpd.read_file(f\"{CATASTRO_PATH}/A.ES.SDGC.CP.28900.cadastralparcel.geojson\", rows = 25000)\n",
    "cadastralZoning = gpd.read_file(f\"{CATASTRO_PATH}/A.ES.SDGC.CP.28900.cadastralzoning.geojson\", rows = 25000)"
   ]
  },
  {
   "cell_type": "markdown",
   "metadata": {},
   "source": [
    "Checkeo de uso de memoria"
   ]
  },
  {
   "cell_type": "code",
   "execution_count": 3,
   "metadata": {},
   "outputs": [
    {
     "name": "stdout",
     "output_type": "stream",
     "text": [
      "Building Layer total memory usage: \t\t\t4825.128 \tKbytes\n",
      "Building Parts Layer total memory usage: \t\t2625.128 \tKbytes\n",
      "Other Construction Layer total memory usage: \t\t774.16 \t\tKbytes\n",
      "Cadastral Parcel Layer total memory usage: \t\t2200.128 \tKbytes\n",
      "Cadastral Zoning Layer total memory usage: \t\t1269.136 \tKbytes\n"
     ]
    }
   ],
   "source": [
    "print(f\"Building Layer total memory usage: \\t\\t\\t{building_df.memory_usage(index=True).sum()/1000} \\tKbytes\")\n",
    "print(f\"Building Parts Layer total memory usage: \\t\\t{buildingParts_df.memory_usage(index=True).sum()/1000} \\tKbytes\")\n",
    "print(f\"Other Construction Layer total memory usage: \\t\\t{otherConstruction_df.memory_usage(index=True).sum()/1000} \\t\\tKbytes\")\n",
    "\n",
    "print(f\"Cadastral Parcel Layer total memory usage: \\t\\t{cadastralParcel.memory_usage(index=True).sum()/1000} \\tKbytes\")\n",
    "print(f\"Cadastral Zoning Layer total memory usage: \\t\\t{cadastralZoning.memory_usage(index=True).sum()/1000} \\tKbytes\")"
   ]
  },
  {
   "cell_type": "markdown",
   "metadata": {},
   "source": [
    "## 1.1 Building Layer"
   ]
  },
  {
   "cell_type": "markdown",
   "metadata": {},
   "source": [
    "En qGIS esta capa representa la parte edificada de los solares."
   ]
  },
  {
   "cell_type": "code",
   "execution_count": 4,
   "metadata": {},
   "outputs": [
    {
     "data": {
      "text/plain": [
       "(25000, 25)"
      ]
     },
     "execution_count": 4,
     "metadata": {},
     "output_type": "execute_result"
    }
   ],
   "source": [
    "building_df.shape"
   ]
  },
  {
   "cell_type": "code",
   "execution_count": 5,
   "metadata": {},
   "outputs": [
    {
     "name": "stdout",
     "output_type": "stream",
     "text": [
      "<class 'geopandas.geodataframe.GeoDataFrame'>\n",
      "RangeIndex: 25000 entries, 0 to 24999\n",
      "Data columns (total 25 columns):\n",
      " #   Column                                   Non-Null Count  Dtype   \n",
      "---  ------                                   --------------  -----   \n",
      " 0   gml_id                                   25000 non-null  object  \n",
      " 1   beginLifespanVersion                     25000 non-null  object  \n",
      " 2   conditionOfConstruction                  25000 non-null  object  \n",
      " 3   beginning                                25000 non-null  object  \n",
      " 4   end                                      25000 non-null  object  \n",
      " 5   endLifespanVersion                       13 non-null     object  \n",
      " 6   informationSystem                        25000 non-null  object  \n",
      " 7   reference                                25000 non-null  object  \n",
      " 8   localId                                  25000 non-null  object  \n",
      " 9   namespace                                25000 non-null  object  \n",
      " 10  horizontalGeometryEstimatedAccuracy      25000 non-null  float64 \n",
      " 11  horizontalGeometryEstimatedAccuracy_uom  25000 non-null  object  \n",
      " 12  horizontalGeometryReference              25000 non-null  object  \n",
      " 13  referenceGeometry                        25000 non-null  bool    \n",
      " 14  currentUse                               24721 non-null  object  \n",
      " 15  numberOfBuildingUnits                    25000 non-null  int64   \n",
      " 16  numberOfDwellings                        25000 non-null  int64   \n",
      " 17  numberOfFloorsAboveGround                0 non-null      object  \n",
      " 18  documentLink                             25000 non-null  object  \n",
      " 19  format                                   25000 non-null  object  \n",
      " 20  sourceStatus                             25000 non-null  object  \n",
      " 21  officialAreaReference                    25000 non-null  object  \n",
      " 22  value                                    25000 non-null  int64   \n",
      " 23  value_uom                                25000 non-null  object  \n",
      " 24  geometry                                 25000 non-null  geometry\n",
      "dtypes: bool(1), float64(1), geometry(1), int64(3), object(19)\n",
      "memory usage: 4.6+ MB\n"
     ]
    }
   ],
   "source": [
    "building_df.info()"
   ]
  },
  {
   "cell_type": "code",
   "execution_count": 6,
   "metadata": {
    "scrolled": true
   },
   "outputs": [
    {
     "data": {
      "text/plain": [
       "gml_id                                         0\n",
       "beginLifespanVersion                           0\n",
       "conditionOfConstruction                        0\n",
       "beginning                                      0\n",
       "end                                            0\n",
       "endLifespanVersion                         24987\n",
       "informationSystem                              0\n",
       "reference                                      0\n",
       "localId                                        0\n",
       "namespace                                      0\n",
       "horizontalGeometryEstimatedAccuracy            0\n",
       "horizontalGeometryEstimatedAccuracy_uom        0\n",
       "horizontalGeometryReference                    0\n",
       "referenceGeometry                              0\n",
       "currentUse                                   279\n",
       "numberOfBuildingUnits                          0\n",
       "numberOfDwellings                              0\n",
       "numberOfFloorsAboveGround                  25000\n",
       "documentLink                                   0\n",
       "format                                         0\n",
       "sourceStatus                                   0\n",
       "officialAreaReference                          0\n",
       "value                                          0\n",
       "value_uom                                      0\n",
       "geometry                                       0\n",
       "dtype: int64"
      ]
     },
     "execution_count": 6,
     "metadata": {},
     "output_type": "execute_result"
    }
   ],
   "source": [
    "building_df.isna().sum()"
   ]
  },
  {
   "cell_type": "markdown",
   "metadata": {},
   "source": [
    "**GETTING RID OF USELESS COLUMNS**"
   ]
  },
  {
   "cell_type": "code",
   "execution_count": 7,
   "metadata": {},
   "outputs": [],
   "source": [
    "# DROP NULL COLUMNS\n",
    "# There are a couple of columns that do not offer any information\n",
    "\n",
    "building_nullCols = ['numberOfFloorsAboveGround', 'endLifespanVersion']\n",
    "building_linkCols = ['documentLink', 'format', 'informationSystem']\n",
    "building_measureCols = ['horizontalGeometryEstimatedAccuracy', 'value_uom', 'sourceStatus',\n",
    "                        'horizontalGeometryEstimatedAccuracy_uom', 'horizontalGeometryReference', \n",
    "                        'officialAreaReference']\n",
    "\n",
    "building_df.drop(building_nullCols,    axis=1, inplace = True)\n",
    "building_df.drop(building_linkCols,    axis=1, inplace = True)\n",
    "building_df.drop(building_measureCols, axis=1, inplace = True)\n",
    "\n",
    "# horizontalGeometryEstimatedAccuracy is always 0.1m accuracy"
   ]
  },
  {
   "cell_type": "code",
   "execution_count": 8,
   "metadata": {},
   "outputs": [],
   "source": [
    "# CORRECTING GROSS FLOOR AREA\n",
    "# officialAreaReference - value - value_uom are columns that refer to the same information\n",
    "\n",
    "building_df.rename(columns={\"value\": \"grossFloorArea\"}, inplace = True)\n",
    "# building_df.drop(['officialAreaReference'], axis=1, inplace = True)"
   ]
  },
  {
   "cell_type": "code",
   "execution_count": 9,
   "metadata": {},
   "outputs": [
    {
     "data": {
      "text/plain": [
       "True     24166\n",
       "False      834\n",
       "Name: Equal_beg_end, dtype: int64"
      ]
     },
     "execution_count": 9,
     "metadata": {},
     "output_type": "execute_result"
    }
   ],
   "source": [
    "# SIMPLIFYING DATE COLUMNS\n",
    "# changes between them migt be because of difference between registration or CFO.\n",
    "# end column has no sense in the context of this project\n",
    "\n",
    "building_dateCols = ['beginLifespanVersion', 'beginning', 'end']\n",
    "\n",
    "# ARE beginning and end the same\n",
    "\n",
    "building_df['Equal_beg_end'] = building_df.apply(lambda x: x['beginning'] == x['end'], axis = 1)\n",
    "building_df['Equal_beg_end'].value_counts()"
   ]
  },
  {
   "cell_type": "markdown",
   "metadata": {},
   "source": [
    "Let's see the rest of DATES columns.\n",
    "In the [bibliography](#http://www.catastro.minhap.es/webinspire/documentos/Conjuntos%20de%20datos.pdf) it says:\n",
    ">- **beginLifespanVersion**: Fecha desde cuándo se ha dado de alta en la base de datos\n",
    "catastral. \n",
    ">- **dateOfConstruction**: estructura que define la fecha de construcción. Está compuesta por dos atributos: bu-c**ore2d:beginning y bu-core2d:end**; los valores son las fechas de construcción de cada unidad constructiva, si hay más de una en el campo **“beginning” se incluye la más antigua y en el campo “end” la más moderna** Siempre se referencian al 1 de enero . \n",
    "\n",
    "**______**\n",
    "Para este proyecto, sólo nos interesa la columna beginning"
   ]
  },
  {
   "cell_type": "code",
   "execution_count": 10,
   "metadata": {},
   "outputs": [
    {
     "name": "stdout",
     "output_type": "stream",
     "text": [
      "FOR BUILDINGS WITH THE DIFFERENT BEGINNING AND END DATES. CONDITION OF CONSTRUCTION\n",
      "Functional : \t833\n",
      "Declined : \t0\n",
      "Ruins : \t1\n"
     ]
    }
   ],
   "source": [
    "# Dont know what this means.. could be buildings that are demolished or abandoned\n",
    "# Lets look to the first row reference = 000207800VK56E\n",
    "# Sede Electronica del Catastro says that this building has been built in 2004, the *end* year\n",
    "# Most plausible cause is that the builing is abandoned, in construction etc, is a phase of reconstruction\n",
    "\n",
    "# conditionOfConstruction should be different\n",
    "# Lets see that\n",
    "\n",
    "c_functional, c_declined, c_ruin = 0, 0, 0\n",
    "\n",
    "for ref in building_df[building_df['Equal_beg_end'] == False]['reference'].tolist() :\n",
    "    if building_df[building_df['reference'] == ref]['conditionOfConstruction'].tolist()[0] == 'functional':\n",
    "        c_functional += 1\n",
    "    elif building_df[building_df['reference'] == ref]['conditionOfConstruction'].tolist()[0] == 'declined':\n",
    "        c_declined += 1\n",
    "    elif building_df[building_df['reference'] == ref]['conditionOfConstruction'].tolist()[0] == 'ruin':\n",
    "        c_ruin += 1\n",
    "    else:\n",
    "        pass\n",
    "\n",
    "print(f\"FOR BUILDINGS WITH THE DIFFERENT BEGINNING AND END DATES. CONDITION OF CONSTRUCTION\")\n",
    "print(f\"Functional : \\t{c_functional}\")\n",
    "print(f\"Declined : \\t{c_declined}\")\n",
    "print(f\"Ruins : \\t{c_ruin}\")\n",
    "\n",
    "# There should be another category\n",
    "# Buildings that may have another new cadastral reference for unknown reasons"
   ]
  },
  {
   "cell_type": "code",
   "execution_count": 11,
   "metadata": {},
   "outputs": [
    {
     "data": {
      "text/plain": [
       "functional    24592\n",
       "-               248\n",
       "declined        109\n",
       "ruin             51\n",
       "Name: conditionOfConstruction, dtype: int64"
      ]
     },
     "execution_count": 11,
     "metadata": {},
     "output_type": "execute_result"
    }
   ],
   "source": [
    "# LETS SEE CONDITION OF CONSTRUCTION COLUMN\n",
    "building_df['conditionOfConstruction'].value_counts()"
   ]
  },
  {
   "cell_type": "code",
   "execution_count": 12,
   "metadata": {},
   "outputs": [],
   "source": [
    "# LETS ADD another category for demolished buildings, that reflects beginning != end\n",
    "# por tanto, los edificios en donde se ha construido suelen son edificios funcionales\n",
    "# \n",
    "# Como se ha dicho más arriba, sólo nos interesa la columna BEGINNING para efectos de este proyecto\n",
    "\n",
    "building_df.drop(['Equal_beg_end', 'end', 'beginLifespanVersion'], axis = 1, inplace = True)"
   ]
  },
  {
   "cell_type": "code",
   "execution_count": 13,
   "metadata": {},
   "outputs": [],
   "source": [
    "import datetime as dt\n",
    "\n",
    "building_df['dateOfConstruction'] = building_df['beginning'].apply(lambda x: \n",
    "                                    dt.datetime.strptime(x,'%Y-%m-%dT%H:%M:%S'))\n",
    "\n",
    "# Out of bounds nanosecond timestamp: 1640-01-01 00:00:00\n",
    "# Pandas required YEARS to be inside de bound of 1670 - 2560,\n",
    "# Because of the nature of data, datetime methods cannot be used for this case\n",
    "\n",
    "def get_yearofConstruction(strng):\n",
    "    \"\"\"\n",
    "    Input:  string\n",
    "    Output: year as string\n",
    "    \"\"\"\n",
    "    first_w = strng.split('T')[0]\n",
    "    # Not using datetime from pandas, not valid for this case\n",
    "    return first_w.split('-')[0]\n",
    "\n",
    "building_df['yearOfConstruction'] = building_df['beginning'].apply(get_yearofConstruction)"
   ]
  },
  {
   "cell_type": "code",
   "execution_count": 14,
   "metadata": {},
   "outputs": [],
   "source": [
    "building_df.drop(['beginning', 'dateOfConstruction'], axis = 1, inplace = True)"
   ]
  },
  {
   "cell_type": "markdown",
   "metadata": {},
   "source": [
    "**____________________________________________________________________________________________________________**"
   ]
  },
  {
   "cell_type": "code",
   "execution_count": 15,
   "metadata": {},
   "outputs": [
    {
     "data": {
      "text/html": [
       "<div>\n",
       "<style scoped>\n",
       "    .dataframe tbody tr th:only-of-type {\n",
       "        vertical-align: middle;\n",
       "    }\n",
       "\n",
       "    .dataframe tbody tr th {\n",
       "        vertical-align: top;\n",
       "    }\n",
       "\n",
       "    .dataframe thead th {\n",
       "        text-align: right;\n",
       "    }\n",
       "</style>\n",
       "<table border=\"1\" class=\"dataframe\">\n",
       "  <thead>\n",
       "    <tr style=\"text-align: right;\">\n",
       "      <th></th>\n",
       "      <th>gml_id</th>\n",
       "      <th>reference</th>\n",
       "      <th>localId</th>\n",
       "      <th>namespace</th>\n",
       "    </tr>\n",
       "  </thead>\n",
       "  <tbody>\n",
       "    <tr>\n",
       "      <th>count</th>\n",
       "      <td>25000</td>\n",
       "      <td>25000</td>\n",
       "      <td>25000</td>\n",
       "      <td>25000</td>\n",
       "    </tr>\n",
       "    <tr>\n",
       "      <th>unique</th>\n",
       "      <td>25000</td>\n",
       "      <td>25000</td>\n",
       "      <td>25000</td>\n",
       "      <td>1</td>\n",
       "    </tr>\n",
       "    <tr>\n",
       "      <th>top</th>\n",
       "      <td>ES.SDGC.BU.0068401VK4606G</td>\n",
       "      <td>1006105VK5810E</td>\n",
       "      <td>1006105VK5810E</td>\n",
       "      <td>ES.SDGC.BU</td>\n",
       "    </tr>\n",
       "    <tr>\n",
       "      <th>freq</th>\n",
       "      <td>1</td>\n",
       "      <td>1</td>\n",
       "      <td>1</td>\n",
       "      <td>25000</td>\n",
       "    </tr>\n",
       "  </tbody>\n",
       "</table>\n",
       "</div>"
      ],
      "text/plain": [
       "                           gml_id       reference         localId   namespace\n",
       "count                       25000           25000           25000       25000\n",
       "unique                      25000           25000           25000           1\n",
       "top     ES.SDGC.BU.0068401VK4606G  1006105VK5810E  1006105VK5810E  ES.SDGC.BU\n",
       "freq                            1               1               1       25000"
      ]
     },
     "execution_count": 15,
     "metadata": {},
     "output_type": "execute_result"
    }
   ],
   "source": [
    "# THERE ARE COLUMNS THAT MAY DUPLICATE INFORMATION\n",
    "# To join with the rest of data, parcels, buildingparts... share an ID\n",
    "# Which col is the ID ??\n",
    "\n",
    "cols_id = ['gml_id', 'reference', 'localId', 'namespace']\n",
    "\n",
    "# Reference == localID ?? \n",
    "# See if there are unique values, or repeteated values (this info has to be contrasted with the rest of geojson)\n",
    "\n",
    "building_df[cols_id].describe()\n",
    "\n",
    "# All elements are unique (as expected)\n",
    "# SHOULD COINCIDE WITH PARCELS\n",
    "# gml_id for later"
   ]
  },
  {
   "cell_type": "code",
   "execution_count": 16,
   "metadata": {},
   "outputs": [],
   "source": [
    "# Are reference and localID the same? \n",
    "building_df.apply(lambda x: x['reference'] == x['localId'], axis = 1).value_counts() # TRUE\n",
    "# What is reference Geometry ?\n",
    "building_df['referenceGeometry'].value_counts() # All true --> Dropping\n",
    "\n",
    "# Dropping reference and namespace\n",
    "building_df.drop(['reference', 'namespace', 'referenceGeometry'], axis = 1, inplace = True)"
   ]
  },
  {
   "cell_type": "code",
   "execution_count": 17,
   "metadata": {},
   "outputs": [
    {
     "data": {
      "text/html": [
       "<div>\n",
       "<style scoped>\n",
       "    .dataframe tbody tr th:only-of-type {\n",
       "        vertical-align: middle;\n",
       "    }\n",
       "\n",
       "    .dataframe tbody tr th {\n",
       "        vertical-align: top;\n",
       "    }\n",
       "\n",
       "    .dataframe thead th {\n",
       "        text-align: right;\n",
       "    }\n",
       "</style>\n",
       "<table border=\"1\" class=\"dataframe\">\n",
       "  <thead>\n",
       "    <tr style=\"text-align: right;\">\n",
       "      <th></th>\n",
       "      <th>gml_id</th>\n",
       "      <th>conditionOfConstruction</th>\n",
       "      <th>localId</th>\n",
       "      <th>currentUse</th>\n",
       "      <th>numberOfBuildingUnits</th>\n",
       "      <th>numberOfDwellings</th>\n",
       "      <th>grossFloorArea</th>\n",
       "      <th>geometry</th>\n",
       "      <th>yearOfConstruction</th>\n",
       "    </tr>\n",
       "  </thead>\n",
       "  <tbody>\n",
       "    <tr>\n",
       "      <th>0</th>\n",
       "      <td>ES.SDGC.BU.  VK4700H</td>\n",
       "      <td>-</td>\n",
       "      <td>VK4700H</td>\n",
       "      <td>None</td>\n",
       "      <td>0</td>\n",
       "      <td>0</td>\n",
       "      <td>0</td>\n",
       "      <td>POLYGON ((440433.629 4470953.961, 440432.170 4...</td>\n",
       "      <td>2000</td>\n",
       "    </tr>\n",
       "    <tr>\n",
       "      <th>1</th>\n",
       "      <td>ES.SDGC.BU.00006Z8VK4800A</td>\n",
       "      <td>-</td>\n",
       "      <td>00006Z8VK4800A</td>\n",
       "      <td>None</td>\n",
       "      <td>0</td>\n",
       "      <td>0</td>\n",
       "      <td>0</td>\n",
       "      <td>POLYGON ((440020.830 4479859.707, 440020.064 4...</td>\n",
       "      <td>2000</td>\n",
       "    </tr>\n",
       "    <tr>\n",
       "      <th>2</th>\n",
       "      <td>ES.SDGC.BU.000200100VK48E</td>\n",
       "      <td>functional</td>\n",
       "      <td>000200100VK48E</td>\n",
       "      <td>2_agriculture</td>\n",
       "      <td>1</td>\n",
       "      <td>0</td>\n",
       "      <td>26</td>\n",
       "      <td>POLYGON ((441657.574 4487050.292, 441658.164 4...</td>\n",
       "      <td>1968</td>\n",
       "    </tr>\n",
       "    <tr>\n",
       "      <th>3</th>\n",
       "      <td>ES.SDGC.BU.000200500VK56E</td>\n",
       "      <td>declined</td>\n",
       "      <td>000200500VK56E</td>\n",
       "      <td>3_industrial</td>\n",
       "      <td>1</td>\n",
       "      <td>0</td>\n",
       "      <td>646</td>\n",
       "      <td>MULTIPOLYGON (((451584.920 4467181.410, 451586...</td>\n",
       "      <td>1995</td>\n",
       "    </tr>\n",
       "    <tr>\n",
       "      <th>4</th>\n",
       "      <td>ES.SDGC.BU.000205600VK56E</td>\n",
       "      <td>declined</td>\n",
       "      <td>000205600VK56E</td>\n",
       "      <td>3_industrial</td>\n",
       "      <td>1</td>\n",
       "      <td>0</td>\n",
       "      <td>202</td>\n",
       "      <td>POLYGON ((451579.400 4467169.610, 451582.370 4...</td>\n",
       "      <td>1995</td>\n",
       "    </tr>\n",
       "    <tr>\n",
       "      <th>5</th>\n",
       "      <td>ES.SDGC.BU.000205700VK56E</td>\n",
       "      <td>declined</td>\n",
       "      <td>000205700VK56E</td>\n",
       "      <td>3_industrial</td>\n",
       "      <td>1</td>\n",
       "      <td>0</td>\n",
       "      <td>105</td>\n",
       "      <td>POLYGON ((451576.440 4467163.260, 451576.930 4...</td>\n",
       "      <td>1995</td>\n",
       "    </tr>\n",
       "    <tr>\n",
       "      <th>6</th>\n",
       "      <td>ES.SDGC.BU.000205800VK56E</td>\n",
       "      <td>declined</td>\n",
       "      <td>000205800VK56E</td>\n",
       "      <td>3_industrial</td>\n",
       "      <td>1</td>\n",
       "      <td>0</td>\n",
       "      <td>120</td>\n",
       "      <td>POLYGON ((451573.050 4467156.010, 451576.440 4...</td>\n",
       "      <td>1995</td>\n",
       "    </tr>\n",
       "    <tr>\n",
       "      <th>7</th>\n",
       "      <td>ES.SDGC.BU.000205900VK56E</td>\n",
       "      <td>declined</td>\n",
       "      <td>000205900VK56E</td>\n",
       "      <td>3_industrial</td>\n",
       "      <td>1</td>\n",
       "      <td>0</td>\n",
       "      <td>120</td>\n",
       "      <td>POLYGON ((451569.670 4467148.760, 451570.230 4...</td>\n",
       "      <td>1995</td>\n",
       "    </tr>\n",
       "    <tr>\n",
       "      <th>8</th>\n",
       "      <td>ES.SDGC.BU.000206000VK56E</td>\n",
       "      <td>declined</td>\n",
       "      <td>000206000VK56E</td>\n",
       "      <td>3_industrial</td>\n",
       "      <td>1</td>\n",
       "      <td>0</td>\n",
       "      <td>120</td>\n",
       "      <td>POLYGON ((451566.290 4467141.520, 451569.670 4...</td>\n",
       "      <td>1995</td>\n",
       "    </tr>\n",
       "    <tr>\n",
       "      <th>9</th>\n",
       "      <td>ES.SDGC.BU.000206100VK56E</td>\n",
       "      <td>declined</td>\n",
       "      <td>000206100VK56E</td>\n",
       "      <td>3_industrial</td>\n",
       "      <td>1</td>\n",
       "      <td>0</td>\n",
       "      <td>177</td>\n",
       "      <td>POLYGON ((451560.380 4467128.720, 451561.530 4...</td>\n",
       "      <td>1995</td>\n",
       "    </tr>\n",
       "  </tbody>\n",
       "</table>\n",
       "</div>"
      ],
      "text/plain": [
       "                      gml_id conditionOfConstruction         localId  \\\n",
       "0       ES.SDGC.BU.  VK4700H                       -         VK4700H   \n",
       "1  ES.SDGC.BU.00006Z8VK4800A                       -  00006Z8VK4800A   \n",
       "2  ES.SDGC.BU.000200100VK48E              functional  000200100VK48E   \n",
       "3  ES.SDGC.BU.000200500VK56E                declined  000200500VK56E   \n",
       "4  ES.SDGC.BU.000205600VK56E                declined  000205600VK56E   \n",
       "5  ES.SDGC.BU.000205700VK56E                declined  000205700VK56E   \n",
       "6  ES.SDGC.BU.000205800VK56E                declined  000205800VK56E   \n",
       "7  ES.SDGC.BU.000205900VK56E                declined  000205900VK56E   \n",
       "8  ES.SDGC.BU.000206000VK56E                declined  000206000VK56E   \n",
       "9  ES.SDGC.BU.000206100VK56E                declined  000206100VK56E   \n",
       "\n",
       "      currentUse  numberOfBuildingUnits  numberOfDwellings  grossFloorArea  \\\n",
       "0           None                      0                  0               0   \n",
       "1           None                      0                  0               0   \n",
       "2  2_agriculture                      1                  0              26   \n",
       "3   3_industrial                      1                  0             646   \n",
       "4   3_industrial                      1                  0             202   \n",
       "5   3_industrial                      1                  0             105   \n",
       "6   3_industrial                      1                  0             120   \n",
       "7   3_industrial                      1                  0             120   \n",
       "8   3_industrial                      1                  0             120   \n",
       "9   3_industrial                      1                  0             177   \n",
       "\n",
       "                                            geometry yearOfConstruction  \n",
       "0  POLYGON ((440433.629 4470953.961, 440432.170 4...               2000  \n",
       "1  POLYGON ((440020.830 4479859.707, 440020.064 4...               2000  \n",
       "2  POLYGON ((441657.574 4487050.292, 441658.164 4...               1968  \n",
       "3  MULTIPOLYGON (((451584.920 4467181.410, 451586...               1995  \n",
       "4  POLYGON ((451579.400 4467169.610, 451582.370 4...               1995  \n",
       "5  POLYGON ((451576.440 4467163.260, 451576.930 4...               1995  \n",
       "6  POLYGON ((451573.050 4467156.010, 451576.440 4...               1995  \n",
       "7  POLYGON ((451569.670 4467148.760, 451570.230 4...               1995  \n",
       "8  POLYGON ((451566.290 4467141.520, 451569.670 4...               1995  \n",
       "9  POLYGON ((451560.380 4467128.720, 451561.530 4...               1995  "
      ]
     },
     "execution_count": 17,
     "metadata": {},
     "output_type": "execute_result"
    }
   ],
   "source": [
    "building_df.head(10)"
   ]
  },
  {
   "cell_type": "markdown",
   "metadata": {},
   "source": [
    "**____________________________________________________________________________________________________________**"
   ]
  },
  {
   "cell_type": "markdown",
   "metadata": {},
   "source": [
    "**____________________________________________________________________________________________________________**"
   ]
  },
  {
   "cell_type": "markdown",
   "metadata": {},
   "source": [
    "## 1.2 Building Parts Layer"
   ]
  },
  {
   "cell_type": "code",
   "execution_count": 18,
   "metadata": {},
   "outputs": [
    {
     "data": {
      "text/plain": [
       "(25000, 14)"
      ]
     },
     "execution_count": 18,
     "metadata": {},
     "output_type": "execute_result"
    }
   ],
   "source": [
    "buildingParts_df.shape"
   ]
  },
  {
   "cell_type": "code",
   "execution_count": 19,
   "metadata": {},
   "outputs": [
    {
     "name": "stdout",
     "output_type": "stream",
     "text": [
      "<class 'geopandas.geodataframe.GeoDataFrame'>\n",
      "RangeIndex: 25000 entries, 0 to 24999\n",
      "Data columns (total 14 columns):\n",
      " #   Column                                   Non-Null Count  Dtype   \n",
      "---  ------                                   --------------  -----   \n",
      " 0   gml_id                                   25000 non-null  object  \n",
      " 1   beginLifespanVersion                     25000 non-null  object  \n",
      " 2   conditionOfConstruction                  0 non-null      object  \n",
      " 3   localId                                  25000 non-null  object  \n",
      " 4   namespace                                25000 non-null  object  \n",
      " 5   horizontalGeometryEstimatedAccuracy      25000 non-null  float64 \n",
      " 6   horizontalGeometryEstimatedAccuracy_uom  25000 non-null  object  \n",
      " 7   horizontalGeometryReference              25000 non-null  object  \n",
      " 8   referenceGeometry                        25000 non-null  bool    \n",
      " 9   numberOfFloorsAboveGround                25000 non-null  int64   \n",
      " 10  heightBelowGround                        25000 non-null  int64   \n",
      " 11  heightBelowGround_uom                    25000 non-null  object  \n",
      " 12  numberOfFloorsBelowGround                25000 non-null  int64   \n",
      " 13  geometry                                 25000 non-null  geometry\n",
      "dtypes: bool(1), float64(1), geometry(1), int64(3), object(8)\n",
      "memory usage: 2.5+ MB\n"
     ]
    }
   ],
   "source": [
    "buildingParts_df.info()"
   ]
  },
  {
   "cell_type": "code",
   "execution_count": 20,
   "metadata": {},
   "outputs": [
    {
     "data": {
      "text/plain": [
       "gml_id                                         0\n",
       "beginLifespanVersion                           0\n",
       "conditionOfConstruction                    25000\n",
       "localId                                        0\n",
       "namespace                                      0\n",
       "horizontalGeometryEstimatedAccuracy            0\n",
       "horizontalGeometryEstimatedAccuracy_uom        0\n",
       "horizontalGeometryReference                    0\n",
       "referenceGeometry                              0\n",
       "numberOfFloorsAboveGround                      0\n",
       "heightBelowGround                              0\n",
       "heightBelowGround_uom                          0\n",
       "numberOfFloorsBelowGround                      0\n",
       "geometry                                       0\n",
       "dtype: int64"
      ]
     },
     "execution_count": 20,
     "metadata": {},
     "output_type": "execute_result"
    }
   ],
   "source": [
    "buildingParts_df.isna().sum()"
   ]
  },
  {
   "cell_type": "code",
   "execution_count": 21,
   "metadata": {},
   "outputs": [
    {
     "data": {
      "text/html": [
       "<div>\n",
       "<style scoped>\n",
       "    .dataframe tbody tr th:only-of-type {\n",
       "        vertical-align: middle;\n",
       "    }\n",
       "\n",
       "    .dataframe tbody tr th {\n",
       "        vertical-align: top;\n",
       "    }\n",
       "\n",
       "    .dataframe thead th {\n",
       "        text-align: right;\n",
       "    }\n",
       "</style>\n",
       "<table border=\"1\" class=\"dataframe\">\n",
       "  <thead>\n",
       "    <tr style=\"text-align: right;\">\n",
       "      <th></th>\n",
       "      <th>horizontalGeometryEstimatedAccuracy</th>\n",
       "      <th>numberOfFloorsAboveGround</th>\n",
       "      <th>heightBelowGround</th>\n",
       "      <th>numberOfFloorsBelowGround</th>\n",
       "    </tr>\n",
       "  </thead>\n",
       "  <tbody>\n",
       "    <tr>\n",
       "      <th>count</th>\n",
       "      <td>2.500000e+04</td>\n",
       "      <td>25000.000000</td>\n",
       "      <td>25000.000000</td>\n",
       "      <td>25000.00000</td>\n",
       "    </tr>\n",
       "    <tr>\n",
       "      <th>mean</th>\n",
       "      <td>1.000000e-01</td>\n",
       "      <td>3.778000</td>\n",
       "      <td>2.270880</td>\n",
       "      <td>0.75696</td>\n",
       "    </tr>\n",
       "    <tr>\n",
       "      <th>std</th>\n",
       "      <td>1.387807e-17</td>\n",
       "      <td>2.747504</td>\n",
       "      <td>2.871751</td>\n",
       "      <td>0.95725</td>\n",
       "    </tr>\n",
       "    <tr>\n",
       "      <th>min</th>\n",
       "      <td>1.000000e-01</td>\n",
       "      <td>0.000000</td>\n",
       "      <td>0.000000</td>\n",
       "      <td>0.00000</td>\n",
       "    </tr>\n",
       "    <tr>\n",
       "      <th>25%</th>\n",
       "      <td>1.000000e-01</td>\n",
       "      <td>1.000000</td>\n",
       "      <td>0.000000</td>\n",
       "      <td>0.00000</td>\n",
       "    </tr>\n",
       "    <tr>\n",
       "      <th>50%</th>\n",
       "      <td>1.000000e-01</td>\n",
       "      <td>3.000000</td>\n",
       "      <td>0.000000</td>\n",
       "      <td>0.00000</td>\n",
       "    </tr>\n",
       "    <tr>\n",
       "      <th>75%</th>\n",
       "      <td>1.000000e-01</td>\n",
       "      <td>6.000000</td>\n",
       "      <td>3.000000</td>\n",
       "      <td>1.00000</td>\n",
       "    </tr>\n",
       "    <tr>\n",
       "      <th>max</th>\n",
       "      <td>1.000000e-01</td>\n",
       "      <td>23.000000</td>\n",
       "      <td>30.000000</td>\n",
       "      <td>10.00000</td>\n",
       "    </tr>\n",
       "  </tbody>\n",
       "</table>\n",
       "</div>"
      ],
      "text/plain": [
       "       horizontalGeometryEstimatedAccuracy  numberOfFloorsAboveGround  \\\n",
       "count                         2.500000e+04               25000.000000   \n",
       "mean                          1.000000e-01                   3.778000   \n",
       "std                           1.387807e-17                   2.747504   \n",
       "min                           1.000000e-01                   0.000000   \n",
       "25%                           1.000000e-01                   1.000000   \n",
       "50%                           1.000000e-01                   3.000000   \n",
       "75%                           1.000000e-01                   6.000000   \n",
       "max                           1.000000e-01                  23.000000   \n",
       "\n",
       "       heightBelowGround  numberOfFloorsBelowGround  \n",
       "count       25000.000000                25000.00000  \n",
       "mean            2.270880                    0.75696  \n",
       "std             2.871751                    0.95725  \n",
       "min             0.000000                    0.00000  \n",
       "25%             0.000000                    0.00000  \n",
       "50%             0.000000                    0.00000  \n",
       "75%             3.000000                    1.00000  \n",
       "max            30.000000                   10.00000  "
      ]
     },
     "execution_count": 21,
     "metadata": {},
     "output_type": "execute_result"
    }
   ],
   "source": [
    "buildingParts_df.describe()"
   ]
  },
  {
   "cell_type": "code",
   "execution_count": 22,
   "metadata": {},
   "outputs": [
    {
     "data": {
      "text/plain": [
       "ES.SDGC.BU    25000\n",
       "Name: namespace, dtype: int64"
      ]
     },
     "execution_count": 22,
     "metadata": {},
     "output_type": "execute_result"
    }
   ],
   "source": [
    "buildingParts_df['namespace'].value_counts()"
   ]
  },
  {
   "cell_type": "code",
   "execution_count": 23,
   "metadata": {},
   "outputs": [],
   "source": [
    "# DROPING USELESS \n",
    "buildingParts_measureCols = ['heightBelowGround_uom','horizontalGeometryEstimatedAccuracy',\n",
    "                             'horizontalGeometryEstimatedAccuracy_uom', 'horizontalGeometryReference',\n",
    "                            'referenceGeometry']\n",
    "buildingParts_nullCols = ['conditionOfConstruction']\n",
    "builingParts_repCols = ['namespace']\n",
    "\n",
    "buildingParts_df.drop(buildingParts_measureCols, axis=1, inplace = True)\n",
    "buildingParts_df.drop(buildingParts_nullCols,    axis=1, inplace = True)\n",
    "buildingParts_df.drop(builingParts_repCols,      axis=1, inplace = True)"
   ]
  },
  {
   "cell_type": "code",
   "execution_count": 24,
   "metadata": {},
   "outputs": [],
   "source": [
    "# GETTING YEAR OF CONSTRUCTION\n",
    "buildingParts_df['yearOfConstruction'] = buildingParts_df['beginLifespanVersion'].apply(get_yearofConstruction)\n",
    "buildingParts_df.drop(['beginLifespanVersion'], axis = 1, inplace = True)"
   ]
  },
  {
   "cell_type": "code",
   "execution_count": 25,
   "metadata": {},
   "outputs": [],
   "source": [
    "# SEPARATING localId from its parts\n",
    "def get_part(x):\n",
    "    part_str = x.split('_')[1]\n",
    "    return part_str.split('t')[1]\n",
    "\n",
    "def get_ID(x):\n",
    "    return x.split('_')[0]\n",
    "\n",
    "buildingParts_df['locadID_parts'] = buildingParts_df['localId'].apply(get_part).astype(dtype = 'int64')\n",
    "buildingParts_df['locadID'] = buildingParts_df['localId'].apply(get_ID)\n",
    "buildingParts_df.drop(['localId'], axis = 1, inplace = True)"
   ]
  },
  {
   "cell_type": "code",
   "execution_count": 26,
   "metadata": {},
   "outputs": [
    {
     "data": {
      "text/html": [
       "<div>\n",
       "<style scoped>\n",
       "    .dataframe tbody tr th:only-of-type {\n",
       "        vertical-align: middle;\n",
       "    }\n",
       "\n",
       "    .dataframe tbody tr th {\n",
       "        vertical-align: top;\n",
       "    }\n",
       "\n",
       "    .dataframe thead th {\n",
       "        text-align: right;\n",
       "    }\n",
       "</style>\n",
       "<table border=\"1\" class=\"dataframe\">\n",
       "  <thead>\n",
       "    <tr style=\"text-align: right;\">\n",
       "      <th></th>\n",
       "      <th>gml_id</th>\n",
       "      <th>numberOfFloorsAboveGround</th>\n",
       "      <th>heightBelowGround</th>\n",
       "      <th>numberOfFloorsBelowGround</th>\n",
       "      <th>geometry</th>\n",
       "      <th>yearOfConstruction</th>\n",
       "      <th>locadID_parts</th>\n",
       "      <th>locadID</th>\n",
       "    </tr>\n",
       "  </thead>\n",
       "  <tbody>\n",
       "    <tr>\n",
       "      <th>0</th>\n",
       "      <td>ES.SDGC.BU.000200100VK48E_part1</td>\n",
       "      <td>1</td>\n",
       "      <td>0</td>\n",
       "      <td>0</td>\n",
       "      <td>POLYGON ((441657.574 4487050.292, 441658.164 4...</td>\n",
       "      <td>2004</td>\n",
       "      <td>1</td>\n",
       "      <td>000200100VK48E</td>\n",
       "    </tr>\n",
       "    <tr>\n",
       "      <th>1</th>\n",
       "      <td>ES.SDGC.BU.000200500VK56E_part1</td>\n",
       "      <td>1</td>\n",
       "      <td>0</td>\n",
       "      <td>0</td>\n",
       "      <td>POLYGON ((451584.920 4467181.410, 451586.250 4...</td>\n",
       "      <td>2013</td>\n",
       "      <td>1</td>\n",
       "      <td>000200500VK56E</td>\n",
       "    </tr>\n",
       "    <tr>\n",
       "      <th>2</th>\n",
       "      <td>ES.SDGC.BU.000200500VK56E_part2</td>\n",
       "      <td>1</td>\n",
       "      <td>0</td>\n",
       "      <td>0</td>\n",
       "      <td>POLYGON ((451612.580 4467215.370, 451618.650 4...</td>\n",
       "      <td>2013</td>\n",
       "      <td>2</td>\n",
       "      <td>000200500VK56E</td>\n",
       "    </tr>\n",
       "    <tr>\n",
       "      <th>3</th>\n",
       "      <td>ES.SDGC.BU.000205600VK56E_part1</td>\n",
       "      <td>1</td>\n",
       "      <td>0</td>\n",
       "      <td>0</td>\n",
       "      <td>POLYGON ((451579.400 4467169.610, 451582.370 4...</td>\n",
       "      <td>2013</td>\n",
       "      <td>1</td>\n",
       "      <td>000205600VK56E</td>\n",
       "    </tr>\n",
       "    <tr>\n",
       "      <th>4</th>\n",
       "      <td>ES.SDGC.BU.000205700VK56E_part1</td>\n",
       "      <td>1</td>\n",
       "      <td>0</td>\n",
       "      <td>0</td>\n",
       "      <td>POLYGON ((451576.440 4467163.260, 451576.930 4...</td>\n",
       "      <td>2013</td>\n",
       "      <td>1</td>\n",
       "      <td>000205700VK56E</td>\n",
       "    </tr>\n",
       "    <tr>\n",
       "      <th>5</th>\n",
       "      <td>ES.SDGC.BU.000205800VK56E_part1</td>\n",
       "      <td>1</td>\n",
       "      <td>0</td>\n",
       "      <td>0</td>\n",
       "      <td>POLYGON ((451573.050 4467156.010, 451576.440 4...</td>\n",
       "      <td>2013</td>\n",
       "      <td>1</td>\n",
       "      <td>000205800VK56E</td>\n",
       "    </tr>\n",
       "    <tr>\n",
       "      <th>6</th>\n",
       "      <td>ES.SDGC.BU.000205900VK56E_part1</td>\n",
       "      <td>1</td>\n",
       "      <td>0</td>\n",
       "      <td>0</td>\n",
       "      <td>POLYGON ((451569.670 4467148.760, 451570.230 4...</td>\n",
       "      <td>2013</td>\n",
       "      <td>1</td>\n",
       "      <td>000205900VK56E</td>\n",
       "    </tr>\n",
       "  </tbody>\n",
       "</table>\n",
       "</div>"
      ],
      "text/plain": [
       "                            gml_id  numberOfFloorsAboveGround  \\\n",
       "0  ES.SDGC.BU.000200100VK48E_part1                          1   \n",
       "1  ES.SDGC.BU.000200500VK56E_part1                          1   \n",
       "2  ES.SDGC.BU.000200500VK56E_part2                          1   \n",
       "3  ES.SDGC.BU.000205600VK56E_part1                          1   \n",
       "4  ES.SDGC.BU.000205700VK56E_part1                          1   \n",
       "5  ES.SDGC.BU.000205800VK56E_part1                          1   \n",
       "6  ES.SDGC.BU.000205900VK56E_part1                          1   \n",
       "\n",
       "   heightBelowGround  numberOfFloorsBelowGround  \\\n",
       "0                  0                          0   \n",
       "1                  0                          0   \n",
       "2                  0                          0   \n",
       "3                  0                          0   \n",
       "4                  0                          0   \n",
       "5                  0                          0   \n",
       "6                  0                          0   \n",
       "\n",
       "                                            geometry yearOfConstruction  \\\n",
       "0  POLYGON ((441657.574 4487050.292, 441658.164 4...               2004   \n",
       "1  POLYGON ((451584.920 4467181.410, 451586.250 4...               2013   \n",
       "2  POLYGON ((451612.580 4467215.370, 451618.650 4...               2013   \n",
       "3  POLYGON ((451579.400 4467169.610, 451582.370 4...               2013   \n",
       "4  POLYGON ((451576.440 4467163.260, 451576.930 4...               2013   \n",
       "5  POLYGON ((451573.050 4467156.010, 451576.440 4...               2013   \n",
       "6  POLYGON ((451569.670 4467148.760, 451570.230 4...               2013   \n",
       "\n",
       "   locadID_parts         locadID  \n",
       "0              1  000200100VK48E  \n",
       "1              1  000200500VK56E  \n",
       "2              2  000200500VK56E  \n",
       "3              1  000205600VK56E  \n",
       "4              1  000205700VK56E  \n",
       "5              1  000205800VK56E  \n",
       "6              1  000205900VK56E  "
      ]
     },
     "execution_count": 26,
     "metadata": {},
     "output_type": "execute_result"
    }
   ],
   "source": [
    "buildingParts_df.head(7)\n",
    "\n",
    "# falta limpiar gml_id --> separar, como part ya se repite en localID, no hace falta"
   ]
  },
  {
   "cell_type": "markdown",
   "metadata": {},
   "source": [
    "**________________________**\n",
    "\n",
    "**________________________**"
   ]
  },
  {
   "cell_type": "markdown",
   "metadata": {},
   "source": [
    "## 1.3 Other Construction Layer"
   ]
  },
  {
   "cell_type": "code",
   "execution_count": 27,
   "metadata": {},
   "outputs": [
    {
     "data": {
      "text/plain": [
       "(13822, 7)"
      ]
     },
     "execution_count": 27,
     "metadata": {},
     "output_type": "execute_result"
    }
   ],
   "source": [
    "otherConstruction_df.shape"
   ]
  },
  {
   "cell_type": "code",
   "execution_count": 28,
   "metadata": {},
   "outputs": [
    {
     "name": "stdout",
     "output_type": "stream",
     "text": [
      "<class 'geopandas.geodataframe.GeoDataFrame'>\n",
      "RangeIndex: 13822 entries, 0 to 13821\n",
      "Data columns (total 7 columns):\n",
      " #   Column                   Non-Null Count  Dtype   \n",
      "---  ------                   --------------  -----   \n",
      " 0   gml_id                   13822 non-null  object  \n",
      " 1   beginLifespanVersion     13822 non-null  object  \n",
      " 2   conditionOfConstruction  0 non-null      object  \n",
      " 3   localId                  13822 non-null  object  \n",
      " 4   namespace                13822 non-null  object  \n",
      " 5   constructionNature       13822 non-null  object  \n",
      " 6   geometry                 13822 non-null  geometry\n",
      "dtypes: geometry(1), object(6)\n",
      "memory usage: 756.0+ KB\n"
     ]
    }
   ],
   "source": [
    "otherConstruction_df.info()"
   ]
  },
  {
   "cell_type": "code",
   "execution_count": 29,
   "metadata": {},
   "outputs": [
    {
     "data": {
      "text/plain": [
       "gml_id                         0\n",
       "beginLifespanVersion           0\n",
       "conditionOfConstruction    13822\n",
       "localId                        0\n",
       "namespace                      0\n",
       "constructionNature             0\n",
       "geometry                       0\n",
       "dtype: int64"
      ]
     },
     "execution_count": 29,
     "metadata": {},
     "output_type": "execute_result"
    }
   ],
   "source": [
    "otherConstruction_df.isna().sum()"
   ]
  },
  {
   "cell_type": "code",
   "execution_count": 30,
   "metadata": {},
   "outputs": [
    {
     "data": {
      "text/plain": [
       "Series([], Name: conditionOfConstruction, dtype: int64)"
      ]
     },
     "execution_count": 30,
     "metadata": {},
     "output_type": "execute_result"
    }
   ],
   "source": [
    "otherConstruction_df['conditionOfConstruction'].value_counts()"
   ]
  },
  {
   "cell_type": "code",
   "execution_count": 31,
   "metadata": {},
   "outputs": [
    {
     "data": {
      "text/html": [
       "<div>\n",
       "<style scoped>\n",
       "    .dataframe tbody tr th:only-of-type {\n",
       "        vertical-align: middle;\n",
       "    }\n",
       "\n",
       "    .dataframe tbody tr th {\n",
       "        vertical-align: top;\n",
       "    }\n",
       "\n",
       "    .dataframe thead th {\n",
       "        text-align: right;\n",
       "    }\n",
       "</style>\n",
       "<table border=\"1\" class=\"dataframe\">\n",
       "  <thead>\n",
       "    <tr style=\"text-align: right;\">\n",
       "      <th></th>\n",
       "      <th>beginLifespanVersion</th>\n",
       "      <th>constructionNature</th>\n",
       "      <th>localId</th>\n",
       "    </tr>\n",
       "  </thead>\n",
       "  <tbody>\n",
       "    <tr>\n",
       "      <th>count</th>\n",
       "      <td>13822</td>\n",
       "      <td>13822</td>\n",
       "      <td>13822</td>\n",
       "    </tr>\n",
       "    <tr>\n",
       "      <th>unique</th>\n",
       "      <td>2191</td>\n",
       "      <td>1</td>\n",
       "      <td>13822</td>\n",
       "    </tr>\n",
       "    <tr>\n",
       "      <th>top</th>\n",
       "      <td>2003-01-02T00:00:00</td>\n",
       "      <td>openAirPool</td>\n",
       "      <td>7803808VK3870D_PI.10582</td>\n",
       "    </tr>\n",
       "    <tr>\n",
       "      <th>freq</th>\n",
       "      <td>899</td>\n",
       "      <td>13822</td>\n",
       "      <td>1</td>\n",
       "    </tr>\n",
       "  </tbody>\n",
       "</table>\n",
       "</div>"
      ],
      "text/plain": [
       "       beginLifespanVersion constructionNature                  localId\n",
       "count                 13822              13822                    13822\n",
       "unique                 2191                  1                    13822\n",
       "top     2003-01-02T00:00:00        openAirPool  7803808VK3870D_PI.10582\n",
       "freq                    899              13822                        1"
      ]
     },
     "execution_count": 31,
     "metadata": {},
     "output_type": "execute_result"
    }
   ],
   "source": [
    "otherConstruction_df[['beginLifespanVersion', 'constructionNature', 'localId']].describe()"
   ]
  },
  {
   "cell_type": "code",
   "execution_count": 32,
   "metadata": {},
   "outputs": [],
   "source": [
    "# All data corresponds to open AIR POOLS\n",
    "# I don't need this dataset to begin with\n",
    "# BUT lets cleaned it"
   ]
  },
  {
   "cell_type": "code",
   "execution_count": 33,
   "metadata": {},
   "outputs": [],
   "source": [
    "otherConstruction_Cols = ['conditionOfConstruction', 'constructionNature', 'namespace']\n",
    "otherConstruction_df.drop(otherConstruction_Cols, axis = 1, inplace = True)"
   ]
  },
  {
   "cell_type": "code",
   "execution_count": 34,
   "metadata": {},
   "outputs": [
    {
     "data": {
      "text/html": [
       "<div>\n",
       "<style scoped>\n",
       "    .dataframe tbody tr th:only-of-type {\n",
       "        vertical-align: middle;\n",
       "    }\n",
       "\n",
       "    .dataframe tbody tr th {\n",
       "        vertical-align: top;\n",
       "    }\n",
       "\n",
       "    .dataframe thead th {\n",
       "        text-align: right;\n",
       "    }\n",
       "</style>\n",
       "<table border=\"1\" class=\"dataframe\">\n",
       "  <thead>\n",
       "    <tr style=\"text-align: right;\">\n",
       "      <th></th>\n",
       "      <th>gml_id</th>\n",
       "      <th>beginLifespanVersion</th>\n",
       "      <th>localId</th>\n",
       "      <th>geometry</th>\n",
       "    </tr>\n",
       "  </thead>\n",
       "  <tbody>\n",
       "    <tr>\n",
       "      <th>0</th>\n",
       "      <td>ES.SDGC.BU.0006601VK3800E_PI.1</td>\n",
       "      <td>2017-07-07T00:00:00</td>\n",
       "      <td>0006601VK3800E_PI.1</td>\n",
       "      <td>POLYGON ((429964.360 4480456.150, 429961.960 4...</td>\n",
       "    </tr>\n",
       "    <tr>\n",
       "      <th>1</th>\n",
       "      <td>ES.SDGC.BU.0007201VK3800E_PI.2</td>\n",
       "      <td>2003-01-02T00:00:00</td>\n",
       "      <td>0007201VK3800E_PI.2</td>\n",
       "      <td>POLYGON ((429883.850 4480596.541, 429888.120 4...</td>\n",
       "    </tr>\n",
       "    <tr>\n",
       "      <th>2</th>\n",
       "      <td>ES.SDGC.BU.0007202VK3800E_PI.3</td>\n",
       "      <td>2006-06-19T00:00:00</td>\n",
       "      <td>0007202VK3800E_PI.3</td>\n",
       "      <td>POLYGON ((429967.989 4480563.520, 429968.469 4...</td>\n",
       "    </tr>\n",
       "  </tbody>\n",
       "</table>\n",
       "</div>"
      ],
      "text/plain": [
       "                           gml_id beginLifespanVersion              localId  \\\n",
       "0  ES.SDGC.BU.0006601VK3800E_PI.1  2017-07-07T00:00:00  0006601VK3800E_PI.1   \n",
       "1  ES.SDGC.BU.0007201VK3800E_PI.2  2003-01-02T00:00:00  0007201VK3800E_PI.2   \n",
       "2  ES.SDGC.BU.0007202VK3800E_PI.3  2006-06-19T00:00:00  0007202VK3800E_PI.3   \n",
       "\n",
       "                                            geometry  \n",
       "0  POLYGON ((429964.360 4480456.150, 429961.960 4...  \n",
       "1  POLYGON ((429883.850 4480596.541, 429888.120 4...  \n",
       "2  POLYGON ((429967.989 4480563.520, 429968.469 4...  "
      ]
     },
     "execution_count": 34,
     "metadata": {},
     "output_type": "execute_result"
    }
   ],
   "source": [
    "otherConstruction_df.head(3)"
   ]
  },
  {
   "cell_type": "code",
   "execution_count": 35,
   "metadata": {},
   "outputs": [],
   "source": [
    "# Using same functions as in Building Parts\n",
    "def get_PI(x):\n",
    "    return x.split('_')[1]\n",
    "\n",
    "# Separating localID\n",
    "\n",
    "otherConstruction_df['locadID_PI'] = otherConstruction_df['localId'].apply(get_PI) #not really useful\n",
    "otherConstruction_df['locadID'] = otherConstruction_df['localId'].apply(get_ID)\n",
    "\n",
    "otherConstruction_df.drop(['localId', 'locadID_PI'], axis = 1, inplace = True)"
   ]
  },
  {
   "cell_type": "code",
   "execution_count": 36,
   "metadata": {},
   "outputs": [],
   "source": [
    "# CLEANING DATE\n",
    "otherConstruction_df['yearOfConstruction'] = otherConstruction_df['beginLifespanVersion'].apply(get_yearofConstruction)\n",
    "otherConstruction_df.drop(['beginLifespanVersion'], axis = 1, inplace = True)"
   ]
  },
  {
   "cell_type": "code",
   "execution_count": 37,
   "metadata": {},
   "outputs": [],
   "source": [
    "# CLEANING gml_id\n",
    "otherConstruction_df['gml_id'] = otherConstruction_df['gml_id'].apply(get_ID)"
   ]
  },
  {
   "cell_type": "code",
   "execution_count": 38,
   "metadata": {
    "scrolled": true
   },
   "outputs": [
    {
     "data": {
      "text/html": [
       "<div>\n",
       "<style scoped>\n",
       "    .dataframe tbody tr th:only-of-type {\n",
       "        vertical-align: middle;\n",
       "    }\n",
       "\n",
       "    .dataframe tbody tr th {\n",
       "        vertical-align: top;\n",
       "    }\n",
       "\n",
       "    .dataframe thead th {\n",
       "        text-align: right;\n",
       "    }\n",
       "</style>\n",
       "<table border=\"1\" class=\"dataframe\">\n",
       "  <thead>\n",
       "    <tr style=\"text-align: right;\">\n",
       "      <th></th>\n",
       "      <th>gml_id</th>\n",
       "      <th>geometry</th>\n",
       "      <th>locadID</th>\n",
       "      <th>yearOfConstruction</th>\n",
       "    </tr>\n",
       "  </thead>\n",
       "  <tbody>\n",
       "    <tr>\n",
       "      <th>0</th>\n",
       "      <td>ES.SDGC.BU.0006601VK3800E</td>\n",
       "      <td>POLYGON ((429964.360 4480456.150, 429961.960 4...</td>\n",
       "      <td>0006601VK3800E</td>\n",
       "      <td>2017</td>\n",
       "    </tr>\n",
       "    <tr>\n",
       "      <th>1</th>\n",
       "      <td>ES.SDGC.BU.0007201VK3800E</td>\n",
       "      <td>POLYGON ((429883.850 4480596.541, 429888.120 4...</td>\n",
       "      <td>0007201VK3800E</td>\n",
       "      <td>2003</td>\n",
       "    </tr>\n",
       "    <tr>\n",
       "      <th>2</th>\n",
       "      <td>ES.SDGC.BU.0007202VK3800E</td>\n",
       "      <td>POLYGON ((429967.989 4480563.520, 429968.469 4...</td>\n",
       "      <td>0007202VK3800E</td>\n",
       "      <td>2006</td>\n",
       "    </tr>\n",
       "  </tbody>\n",
       "</table>\n",
       "</div>"
      ],
      "text/plain": [
       "                      gml_id  \\\n",
       "0  ES.SDGC.BU.0006601VK3800E   \n",
       "1  ES.SDGC.BU.0007201VK3800E   \n",
       "2  ES.SDGC.BU.0007202VK3800E   \n",
       "\n",
       "                                            geometry         locadID  \\\n",
       "0  POLYGON ((429964.360 4480456.150, 429961.960 4...  0006601VK3800E   \n",
       "1  POLYGON ((429883.850 4480596.541, 429888.120 4...  0007201VK3800E   \n",
       "2  POLYGON ((429967.989 4480563.520, 429968.469 4...  0007202VK3800E   \n",
       "\n",
       "  yearOfConstruction  \n",
       "0               2017  \n",
       "1               2003  \n",
       "2               2006  "
      ]
     },
     "execution_count": 38,
     "metadata": {},
     "output_type": "execute_result"
    }
   ],
   "source": [
    "otherConstruction_df.head(3)"
   ]
  },
  {
   "cell_type": "code",
   "execution_count": 61,
   "metadata": {
    "scrolled": true
   },
   "outputs": [
    {
     "data": {
      "text/plain": [
       "3320722VK4832A    72\n",
       "6243101VK4864C    38\n",
       "5744401VK4854D    36\n",
       "5942301VK4854D    33\n",
       "6442501VK4864C    28\n",
       "                  ..\n",
       "4080904VK4748A     1\n",
       "8281909VK4788A     1\n",
       "8603831VK3880D     1\n",
       "0598604VK5709H     1\n",
       "8316316VK3881E     1\n",
       "Name: locadID, Length: 11994, dtype: int64"
      ]
     },
     "metadata": {},
     "output_type": "display_data"
    }
   ],
   "source": [
    "display(otherConstruction_df['locadID'].value_counts())"
   ]
  },
  {
   "cell_type": "code",
   "execution_count": 70,
   "metadata": {},
   "outputs": [
    {
     "data": {
      "text/html": [
       "<div>\n",
       "<style scoped>\n",
       "    .dataframe tbody tr th:only-of-type {\n",
       "        vertical-align: middle;\n",
       "    }\n",
       "\n",
       "    .dataframe tbody tr th {\n",
       "        vertical-align: top;\n",
       "    }\n",
       "\n",
       "    .dataframe thead th {\n",
       "        text-align: right;\n",
       "    }\n",
       "</style>\n",
       "<table border=\"1\" class=\"dataframe\">\n",
       "  <thead>\n",
       "    <tr style=\"text-align: right;\">\n",
       "      <th></th>\n",
       "      <th>gml_id</th>\n",
       "      <th>numberOfFloorsAboveGround</th>\n",
       "      <th>heightBelowGround</th>\n",
       "      <th>numberOfFloorsBelowGround</th>\n",
       "      <th>geometry</th>\n",
       "      <th>yearOfConstruction</th>\n",
       "      <th>locadID_parts</th>\n",
       "      <th>locadID</th>\n",
       "    </tr>\n",
       "  </thead>\n",
       "  <tbody>\n",
       "  </tbody>\n",
       "</table>\n",
       "</div>"
      ],
      "text/plain": [
       "Empty GeoDataFrame\n",
       "Columns: [gml_id, numberOfFloorsAboveGround, heightBelowGround, numberOfFloorsBelowGround, geometry, yearOfConstruction, locadID_parts, locadID]\n",
       "Index: []"
      ]
     },
     "metadata": {},
     "output_type": "display_data"
    },
    {
     "data": {
      "text/html": [
       "<div>\n",
       "<style scoped>\n",
       "    .dataframe tbody tr th:only-of-type {\n",
       "        vertical-align: middle;\n",
       "    }\n",
       "\n",
       "    .dataframe tbody tr th {\n",
       "        vertical-align: top;\n",
       "    }\n",
       "\n",
       "    .dataframe thead th {\n",
       "        text-align: right;\n",
       "    }\n",
       "</style>\n",
       "<table border=\"1\" class=\"dataframe\">\n",
       "  <thead>\n",
       "    <tr style=\"text-align: right;\">\n",
       "      <th></th>\n",
       "      <th>gml_id</th>\n",
       "      <th>conditionOfConstruction</th>\n",
       "      <th>localId</th>\n",
       "      <th>currentUse</th>\n",
       "      <th>numberOfBuildingUnits</th>\n",
       "      <th>numberOfDwellings</th>\n",
       "      <th>grossFloorArea</th>\n",
       "      <th>geometry</th>\n",
       "      <th>yearOfConstruction</th>\n",
       "    </tr>\n",
       "  </thead>\n",
       "  <tbody>\n",
       "  </tbody>\n",
       "</table>\n",
       "</div>"
      ],
      "text/plain": [
       "Empty GeoDataFrame\n",
       "Columns: [gml_id, conditionOfConstruction, localId, currentUse, numberOfBuildingUnits, numberOfDwellings, grossFloorArea, geometry, yearOfConstruction]\n",
       "Index: []"
      ]
     },
     "metadata": {},
     "output_type": "display_data"
    },
    {
     "data": {
      "text/html": [
       "<div>\n",
       "<style scoped>\n",
       "    .dataframe tbody tr th:only-of-type {\n",
       "        vertical-align: middle;\n",
       "    }\n",
       "\n",
       "    .dataframe tbody tr th {\n",
       "        vertical-align: top;\n",
       "    }\n",
       "\n",
       "    .dataframe thead th {\n",
       "        text-align: right;\n",
       "    }\n",
       "</style>\n",
       "<table border=\"1\" class=\"dataframe\">\n",
       "  <thead>\n",
       "    <tr style=\"text-align: right;\">\n",
       "      <th></th>\n",
       "      <th>gml_id</th>\n",
       "      <th>areaValue</th>\n",
       "      <th>localId</th>\n",
       "      <th>label</th>\n",
       "      <th>pos</th>\n",
       "      <th>geometry</th>\n",
       "      <th>yearOfConstruction</th>\n",
       "    </tr>\n",
       "  </thead>\n",
       "  <tbody>\n",
       "  </tbody>\n",
       "</table>\n",
       "</div>"
      ],
      "text/plain": [
       "Empty GeoDataFrame\n",
       "Columns: [gml_id, areaValue, localId, label, pos, geometry, yearOfConstruction]\n",
       "Index: []"
      ]
     },
     "metadata": {},
     "output_type": "display_data"
    }
   ],
   "source": [
    "# does the locadID with the most open pools exists in the previous datasets?\n",
    "display(buildingParts_df[buildingParts_df['locadID'] == '8281909VK4788A'])\n",
    "display(building_df[building_df['localId'] == '8281909VK4788A'])\n",
    "display(cadastralParcel[cadastralParcel['localId'] == '8281909VK4788A'])"
   ]
  },
  {
   "cell_type": "markdown",
   "metadata": {},
   "source": [
    "**________________________**\n",
    "\n",
    "**________________________**"
   ]
  },
  {
   "cell_type": "markdown",
   "metadata": {},
   "source": [
    "## 1.4 Cadastral Parcel Layer"
   ]
  },
  {
   "cell_type": "code",
   "execution_count": 39,
   "metadata": {},
   "outputs": [
    {
     "data": {
      "text/plain": [
       "(25000, 11)"
      ]
     },
     "execution_count": 39,
     "metadata": {},
     "output_type": "execute_result"
    }
   ],
   "source": [
    "cadastralParcel.shape"
   ]
  },
  {
   "cell_type": "code",
   "execution_count": 40,
   "metadata": {},
   "outputs": [
    {
     "name": "stdout",
     "output_type": "stream",
     "text": [
      "<class 'geopandas.geodataframe.GeoDataFrame'>\n",
      "RangeIndex: 25000 entries, 0 to 24999\n",
      "Data columns (total 11 columns):\n",
      " #   Column                      Non-Null Count  Dtype   \n",
      "---  ------                      --------------  -----   \n",
      " 0   gml_id                      25000 non-null  object  \n",
      " 1   areaValue                   25000 non-null  int64   \n",
      " 2   areaValue_uom               25000 non-null  object  \n",
      " 3   beginLifespanVersion        25000 non-null  object  \n",
      " 4   endLifespanVersion          0 non-null      object  \n",
      " 5   localId                     25000 non-null  object  \n",
      " 6   namespace                   25000 non-null  object  \n",
      " 7   label                       25000 non-null  object  \n",
      " 8   nationalCadastralReference  25000 non-null  object  \n",
      " 9   pos                         25000 non-null  object  \n",
      " 10  geometry                    25000 non-null  geometry\n",
      "dtypes: geometry(1), int64(1), object(9)\n",
      "memory usage: 2.1+ MB\n"
     ]
    }
   ],
   "source": [
    "cadastralParcel.info()"
   ]
  },
  {
   "cell_type": "code",
   "execution_count": 41,
   "metadata": {},
   "outputs": [
    {
     "data": {
      "text/plain": [
       "gml_id                            0\n",
       "areaValue                         0\n",
       "areaValue_uom                     0\n",
       "beginLifespanVersion              0\n",
       "endLifespanVersion            25000\n",
       "localId                           0\n",
       "namespace                         0\n",
       "label                             0\n",
       "nationalCadastralReference        0\n",
       "pos                               0\n",
       "geometry                          0\n",
       "dtype: int64"
      ]
     },
     "execution_count": 41,
     "metadata": {},
     "output_type": "execute_result"
    }
   ],
   "source": [
    "cadastralParcel.isna().sum()"
   ]
  },
  {
   "cell_type": "code",
   "execution_count": 42,
   "metadata": {},
   "outputs": [
    {
     "data": {
      "text/plain": [
       "Series([], Name: endLifespanVersion, dtype: int64)"
      ]
     },
     "execution_count": 42,
     "metadata": {},
     "output_type": "execute_result"
    }
   ],
   "source": [
    "cadastralParcel['endLifespanVersion'].value_counts()"
   ]
  },
  {
   "cell_type": "code",
   "execution_count": 43,
   "metadata": {},
   "outputs": [],
   "source": [
    "cadastralParcel.drop(['endLifespanVersion'], axis = 1, inplace = True)"
   ]
  },
  {
   "cell_type": "code",
   "execution_count": 44,
   "metadata": {},
   "outputs": [],
   "source": [
    "cadastralParcel_measureCols = ['areaValue_uom', 'namespace']\n",
    "cadastralParcel.drop(cadastralParcel_measureCols, axis = 1, inplace = True)"
   ]
  },
  {
   "cell_type": "code",
   "execution_count": 45,
   "metadata": {},
   "outputs": [],
   "source": [
    "# CLEANING YEAR (same as 1.3 - 1.2 - 1.1)\n",
    "cadastralParcel['yearOfConstruction'] = cadastralParcel['beginLifespanVersion'].apply(get_yearofConstruction)\n",
    "cadastralParcel.drop(['beginLifespanVersion'], axis = 1, inplace = True)"
   ]
  },
  {
   "cell_type": "code",
   "execution_count": 46,
   "metadata": {},
   "outputs": [
    {
     "data": {
      "text/plain": [
       "True    25000\n",
       "Name: Equality, dtype: int64"
      ]
     },
     "execution_count": 46,
     "metadata": {},
     "output_type": "execute_result"
    }
   ],
   "source": [
    "# is localID the same as nationalCadastralReference\n",
    "\n",
    "cadastralParcel['Equality'] = cadastralParcel.apply(lambda x : x['localId'] == x['nationalCadastralReference'], axis = 1)\n",
    "cadastralParcel['Equality'].value_counts() # All true"
   ]
  },
  {
   "cell_type": "code",
   "execution_count": 47,
   "metadata": {},
   "outputs": [],
   "source": [
    "cadastralParcel.drop(['Equality', 'nationalCadastralReference'], axis = 1, inplace = True)"
   ]
  },
  {
   "cell_type": "code",
   "execution_count": 48,
   "metadata": {
    "scrolled": true
   },
   "outputs": [
    {
     "data": {
      "text/html": [
       "<div>\n",
       "<style scoped>\n",
       "    .dataframe tbody tr th:only-of-type {\n",
       "        vertical-align: middle;\n",
       "    }\n",
       "\n",
       "    .dataframe tbody tr th {\n",
       "        vertical-align: top;\n",
       "    }\n",
       "\n",
       "    .dataframe thead th {\n",
       "        text-align: right;\n",
       "    }\n",
       "</style>\n",
       "<table border=\"1\" class=\"dataframe\">\n",
       "  <thead>\n",
       "    <tr style=\"text-align: right;\">\n",
       "      <th></th>\n",
       "      <th>gml_id</th>\n",
       "      <th>areaValue</th>\n",
       "      <th>localId</th>\n",
       "      <th>label</th>\n",
       "      <th>pos</th>\n",
       "      <th>geometry</th>\n",
       "      <th>yearOfConstruction</th>\n",
       "    </tr>\n",
       "  </thead>\n",
       "  <tbody>\n",
       "    <tr>\n",
       "      <th>0</th>\n",
       "      <td>ES.SDGC.CP.000200500VK56E</td>\n",
       "      <td>1268</td>\n",
       "      <td>000200500VK56E</td>\n",
       "      <td>005</td>\n",
       "      <td>451607.03 4467199.27</td>\n",
       "      <td>MULTIPOLYGON (((451599.360 4467174.940, 451584...</td>\n",
       "      <td>2013</td>\n",
       "    </tr>\n",
       "    <tr>\n",
       "      <th>1</th>\n",
       "      <td>ES.SDGC.CP.000205600VK56E</td>\n",
       "      <td>297</td>\n",
       "      <td>000205600VK56E</td>\n",
       "      <td>056</td>\n",
       "      <td>451592.44 4467170.83</td>\n",
       "      <td>MULTIPOLYGON (((451593.000 4467163.250, 451579...</td>\n",
       "      <td>2013</td>\n",
       "    </tr>\n",
       "    <tr>\n",
       "      <th>2</th>\n",
       "      <td>ES.SDGC.CP.000205700VK56E</td>\n",
       "      <td>155</td>\n",
       "      <td>000205700VK56E</td>\n",
       "      <td>057</td>\n",
       "      <td>451587.93 4467161.77</td>\n",
       "      <td>MULTIPOLYGON (((451590.040 4467156.910, 451576...</td>\n",
       "      <td>2013</td>\n",
       "    </tr>\n",
       "    <tr>\n",
       "      <th>3</th>\n",
       "      <td>ES.SDGC.CP.000205800VK56E</td>\n",
       "      <td>174</td>\n",
       "      <td>000205800VK56E</td>\n",
       "      <td>058</td>\n",
       "      <td>451584.62 4467155.04</td>\n",
       "      <td>MULTIPOLYGON (((451586.650 4467149.650, 451573...</td>\n",
       "      <td>2013</td>\n",
       "    </tr>\n",
       "  </tbody>\n",
       "</table>\n",
       "</div>"
      ],
      "text/plain": [
       "                      gml_id  areaValue         localId label  \\\n",
       "0  ES.SDGC.CP.000200500VK56E       1268  000200500VK56E   005   \n",
       "1  ES.SDGC.CP.000205600VK56E        297  000205600VK56E   056   \n",
       "2  ES.SDGC.CP.000205700VK56E        155  000205700VK56E   057   \n",
       "3  ES.SDGC.CP.000205800VK56E        174  000205800VK56E   058   \n",
       "\n",
       "                    pos                                           geometry  \\\n",
       "0  451607.03 4467199.27  MULTIPOLYGON (((451599.360 4467174.940, 451584...   \n",
       "1  451592.44 4467170.83  MULTIPOLYGON (((451593.000 4467163.250, 451579...   \n",
       "2  451587.93 4467161.77  MULTIPOLYGON (((451590.040 4467156.910, 451576...   \n",
       "3  451584.62 4467155.04  MULTIPOLYGON (((451586.650 4467149.650, 451573...   \n",
       "\n",
       "  yearOfConstruction  \n",
       "0               2013  \n",
       "1               2013  \n",
       "2               2013  \n",
       "3               2013  "
      ]
     },
     "execution_count": 48,
     "metadata": {},
     "output_type": "execute_result"
    }
   ],
   "source": [
    "cadastralParcel.head(4)"
   ]
  },
  {
   "cell_type": "code",
   "execution_count": 60,
   "metadata": {},
   "outputs": [
    {
     "data": {
      "text/plain": [
       "28900J00600005    1\n",
       "0381316VK4708A    1\n",
       "0399911VK4709G    1\n",
       "0298720VK4709G    1\n",
       "0606503VK4700F    1\n",
       "                 ..\n",
       "0906307VK5800F    1\n",
       "0805101VK5800F    1\n",
       "0187806VK4708E    1\n",
       "0391404VK4709A    1\n",
       "0992405VK4809D    1\n",
       "Name: localId, Length: 25000, dtype: int64"
      ]
     },
     "metadata": {},
     "output_type": "display_data"
    }
   ],
   "source": [
    "display(cadastralParcel['localId'].value_counts())"
   ]
  },
  {
   "cell_type": "markdown",
   "metadata": {},
   "source": [
    "**________________________**\n",
    "\n",
    "**________________________**"
   ]
  },
  {
   "cell_type": "markdown",
   "metadata": {},
   "source": [
    "## 1.5 Cadastral Zoning Layer"
   ]
  },
  {
   "cell_type": "code",
   "execution_count": 49,
   "metadata": {},
   "outputs": [
    {
     "data": {
      "text/plain": [
       "(12202, 13)"
      ]
     },
     "execution_count": 49,
     "metadata": {},
     "output_type": "execute_result"
    }
   ],
   "source": [
    "cadastralZoning.shape"
   ]
  },
  {
   "cell_type": "code",
   "execution_count": 50,
   "metadata": {},
   "outputs": [
    {
     "name": "stdout",
     "output_type": "stream",
     "text": [
      "<class 'geopandas.geodataframe.GeoDataFrame'>\n",
      "RangeIndex: 12202 entries, 0 to 12201\n",
      "Data columns (total 13 columns):\n",
      " #   Column                           Non-Null Count  Dtype   \n",
      "---  ------                           --------------  -----   \n",
      " 0   gml_id                           12202 non-null  object  \n",
      " 1   beginLifespanVersion             12202 non-null  object  \n",
      " 2   endLifespanVersion               0 non-null      object  \n",
      " 3   estimatedAccuracy                12202 non-null  float64 \n",
      " 4   estimatedAccuracy_uom            12202 non-null  object  \n",
      " 5   localId                          12202 non-null  object  \n",
      " 6   namespace                        12202 non-null  object  \n",
      " 7   label                            12202 non-null  object  \n",
      " 8   LocalisedCharacterString         12202 non-null  object  \n",
      " 9   nationalCadastalZoningReference  12202 non-null  object  \n",
      " 10  originalMapScaleDenominator      12202 non-null  int64   \n",
      " 11  pos                              12202 non-null  object  \n",
      " 12  geometry                         12202 non-null  geometry\n",
      "dtypes: float64(1), geometry(1), int64(1), object(10)\n",
      "memory usage: 1.2+ MB\n"
     ]
    }
   ],
   "source": [
    "cadastralZoning.info()"
   ]
  },
  {
   "cell_type": "code",
   "execution_count": 51,
   "metadata": {},
   "outputs": [
    {
     "data": {
      "text/plain": [
       "gml_id                                 0\n",
       "beginLifespanVersion                   0\n",
       "endLifespanVersion                 12202\n",
       "estimatedAccuracy                      0\n",
       "estimatedAccuracy_uom                  0\n",
       "localId                                0\n",
       "namespace                              0\n",
       "label                                  0\n",
       "LocalisedCharacterString               0\n",
       "nationalCadastalZoningReference        0\n",
       "originalMapScaleDenominator            0\n",
       "pos                                    0\n",
       "geometry                               0\n",
       "dtype: int64"
      ]
     },
     "execution_count": 51,
     "metadata": {},
     "output_type": "execute_result"
    }
   ],
   "source": [
    "cadastralZoning.isna().sum()"
   ]
  },
  {
   "cell_type": "code",
   "execution_count": 59,
   "metadata": {},
   "outputs": [
    {
     "ename": "KeyError",
     "evalue": "'estimatedAccuracy'",
     "output_type": "error",
     "traceback": [
      "\u001b[0;31m---------------------------------------------------------------------------\u001b[0m",
      "\u001b[0;31mKeyError\u001b[0m                                  Traceback (most recent call last)",
      "\u001b[0;32m~/miniconda3/envs/geoesp_env/lib/python3.7/site-packages/pandas/core/indexes/base.py\u001b[0m in \u001b[0;36mget_loc\u001b[0;34m(self, key, method, tolerance)\u001b[0m\n\u001b[1;32m   2888\u001b[0m             \u001b[0;32mtry\u001b[0m\u001b[0;34m:\u001b[0m\u001b[0;34m\u001b[0m\u001b[0;34m\u001b[0m\u001b[0m\n\u001b[0;32m-> 2889\u001b[0;31m                 \u001b[0;32mreturn\u001b[0m \u001b[0mself\u001b[0m\u001b[0;34m.\u001b[0m\u001b[0m_engine\u001b[0m\u001b[0;34m.\u001b[0m\u001b[0mget_loc\u001b[0m\u001b[0;34m(\u001b[0m\u001b[0mcasted_key\u001b[0m\u001b[0;34m)\u001b[0m\u001b[0;34m\u001b[0m\u001b[0;34m\u001b[0m\u001b[0m\n\u001b[0m\u001b[1;32m   2890\u001b[0m             \u001b[0;32mexcept\u001b[0m \u001b[0mKeyError\u001b[0m \u001b[0;32mas\u001b[0m \u001b[0merr\u001b[0m\u001b[0;34m:\u001b[0m\u001b[0;34m\u001b[0m\u001b[0;34m\u001b[0m\u001b[0m\n",
      "\u001b[0;32mpandas/_libs/index.pyx\u001b[0m in \u001b[0;36mpandas._libs.index.IndexEngine.get_loc\u001b[0;34m()\u001b[0m\n",
      "\u001b[0;32mpandas/_libs/index.pyx\u001b[0m in \u001b[0;36mpandas._libs.index.IndexEngine.get_loc\u001b[0;34m()\u001b[0m\n",
      "\u001b[0;32mpandas/_libs/hashtable_class_helper.pxi\u001b[0m in \u001b[0;36mpandas._libs.hashtable.PyObjectHashTable.get_item\u001b[0;34m()\u001b[0m\n",
      "\u001b[0;32mpandas/_libs/hashtable_class_helper.pxi\u001b[0m in \u001b[0;36mpandas._libs.hashtable.PyObjectHashTable.get_item\u001b[0;34m()\u001b[0m\n",
      "\u001b[0;31mKeyError\u001b[0m: 'estimatedAccuracy'",
      "\nThe above exception was the direct cause of the following exception:\n",
      "\u001b[0;31mKeyError\u001b[0m                                  Traceback (most recent call last)",
      "\u001b[0;32m<ipython-input-59-ad52a93e5b32>\u001b[0m in \u001b[0;36m<module>\u001b[0;34m\u001b[0m\n\u001b[0;32m----> 1\u001b[0;31m \u001b[0mdisplay\u001b[0m\u001b[0;34m(\u001b[0m\u001b[0mcadastralZoning\u001b[0m\u001b[0;34m[\u001b[0m\u001b[0;34m'estimatedAccuracy'\u001b[0m\u001b[0;34m]\u001b[0m\u001b[0;34m.\u001b[0m\u001b[0mvalue_counts\u001b[0m\u001b[0;34m(\u001b[0m\u001b[0;34m)\u001b[0m\u001b[0;34m)\u001b[0m\u001b[0;34m\u001b[0m\u001b[0;34m\u001b[0m\u001b[0m\n\u001b[0m\u001b[1;32m      2\u001b[0m \u001b[0mdisplay\u001b[0m\u001b[0;34m(\u001b[0m\u001b[0mcadastralZoning\u001b[0m\u001b[0;34m[\u001b[0m\u001b[0;34m'estimatedAccuracy_uom'\u001b[0m\u001b[0;34m]\u001b[0m\u001b[0;34m.\u001b[0m\u001b[0mvalue_counts\u001b[0m\u001b[0;34m(\u001b[0m\u001b[0;34m)\u001b[0m\u001b[0;34m)\u001b[0m\u001b[0;34m\u001b[0m\u001b[0;34m\u001b[0m\u001b[0m\n\u001b[1;32m      3\u001b[0m \u001b[0mdisplay\u001b[0m\u001b[0;34m(\u001b[0m\u001b[0mcadastralZoning\u001b[0m\u001b[0;34m[\u001b[0m\u001b[0;34m'originalMapScaleDenominator'\u001b[0m\u001b[0;34m]\u001b[0m\u001b[0;34m.\u001b[0m\u001b[0mvalue_counts\u001b[0m\u001b[0;34m(\u001b[0m\u001b[0;34m)\u001b[0m\u001b[0;34m)\u001b[0m\u001b[0;34m\u001b[0m\u001b[0;34m\u001b[0m\u001b[0m\n\u001b[1;32m      4\u001b[0m \u001b[0mdisplay\u001b[0m\u001b[0;34m(\u001b[0m\u001b[0mcadastralZoning\u001b[0m\u001b[0;34m[\u001b[0m\u001b[0;34m'LocalisedCharacterString'\u001b[0m\u001b[0;34m]\u001b[0m\u001b[0;34m.\u001b[0m\u001b[0mvalue_counts\u001b[0m\u001b[0;34m(\u001b[0m\u001b[0;34m)\u001b[0m\u001b[0;34m)\u001b[0m \u001b[0;31m# son iguales ??\u001b[0m\u001b[0;34m\u001b[0m\u001b[0;34m\u001b[0m\u001b[0m\n",
      "\u001b[0;32m~/miniconda3/envs/geoesp_env/lib/python3.7/site-packages/geopandas/geodataframe.py\u001b[0m in \u001b[0;36m__getitem__\u001b[0;34m(self, key)\u001b[0m\n\u001b[1;32m    826\u001b[0m         \u001b[0mGeoDataFrame\u001b[0m\u001b[0;34m.\u001b[0m\u001b[0;34m\u001b[0m\u001b[0;34m\u001b[0m\u001b[0m\n\u001b[1;32m    827\u001b[0m         \"\"\"\n\u001b[0;32m--> 828\u001b[0;31m         \u001b[0mresult\u001b[0m \u001b[0;34m=\u001b[0m \u001b[0msuper\u001b[0m\u001b[0;34m(\u001b[0m\u001b[0mGeoDataFrame\u001b[0m\u001b[0;34m,\u001b[0m \u001b[0mself\u001b[0m\u001b[0;34m)\u001b[0m\u001b[0;34m.\u001b[0m\u001b[0m__getitem__\u001b[0m\u001b[0;34m(\u001b[0m\u001b[0mkey\u001b[0m\u001b[0;34m)\u001b[0m\u001b[0;34m\u001b[0m\u001b[0;34m\u001b[0m\u001b[0m\n\u001b[0m\u001b[1;32m    829\u001b[0m         \u001b[0mgeo_col\u001b[0m \u001b[0;34m=\u001b[0m \u001b[0mself\u001b[0m\u001b[0;34m.\u001b[0m\u001b[0m_geometry_column_name\u001b[0m\u001b[0;34m\u001b[0m\u001b[0;34m\u001b[0m\u001b[0m\n\u001b[1;32m    830\u001b[0m         \u001b[0;32mif\u001b[0m \u001b[0misinstance\u001b[0m\u001b[0;34m(\u001b[0m\u001b[0mresult\u001b[0m\u001b[0;34m,\u001b[0m \u001b[0mSeries\u001b[0m\u001b[0;34m)\u001b[0m \u001b[0;32mand\u001b[0m \u001b[0misinstance\u001b[0m\u001b[0;34m(\u001b[0m\u001b[0mresult\u001b[0m\u001b[0;34m.\u001b[0m\u001b[0mdtype\u001b[0m\u001b[0;34m,\u001b[0m \u001b[0mGeometryDtype\u001b[0m\u001b[0;34m)\u001b[0m\u001b[0;34m:\u001b[0m\u001b[0;34m\u001b[0m\u001b[0;34m\u001b[0m\u001b[0m\n",
      "\u001b[0;32m~/miniconda3/envs/geoesp_env/lib/python3.7/site-packages/pandas/core/frame.py\u001b[0m in \u001b[0;36m__getitem__\u001b[0;34m(self, key)\u001b[0m\n\u001b[1;32m   2900\u001b[0m             \u001b[0;32mif\u001b[0m \u001b[0mself\u001b[0m\u001b[0;34m.\u001b[0m\u001b[0mcolumns\u001b[0m\u001b[0;34m.\u001b[0m\u001b[0mnlevels\u001b[0m \u001b[0;34m>\u001b[0m \u001b[0;36m1\u001b[0m\u001b[0;34m:\u001b[0m\u001b[0;34m\u001b[0m\u001b[0;34m\u001b[0m\u001b[0m\n\u001b[1;32m   2901\u001b[0m                 \u001b[0;32mreturn\u001b[0m \u001b[0mself\u001b[0m\u001b[0;34m.\u001b[0m\u001b[0m_getitem_multilevel\u001b[0m\u001b[0;34m(\u001b[0m\u001b[0mkey\u001b[0m\u001b[0;34m)\u001b[0m\u001b[0;34m\u001b[0m\u001b[0;34m\u001b[0m\u001b[0m\n\u001b[0;32m-> 2902\u001b[0;31m             \u001b[0mindexer\u001b[0m \u001b[0;34m=\u001b[0m \u001b[0mself\u001b[0m\u001b[0;34m.\u001b[0m\u001b[0mcolumns\u001b[0m\u001b[0;34m.\u001b[0m\u001b[0mget_loc\u001b[0m\u001b[0;34m(\u001b[0m\u001b[0mkey\u001b[0m\u001b[0;34m)\u001b[0m\u001b[0;34m\u001b[0m\u001b[0;34m\u001b[0m\u001b[0m\n\u001b[0m\u001b[1;32m   2903\u001b[0m             \u001b[0;32mif\u001b[0m \u001b[0mis_integer\u001b[0m\u001b[0;34m(\u001b[0m\u001b[0mindexer\u001b[0m\u001b[0;34m)\u001b[0m\u001b[0;34m:\u001b[0m\u001b[0;34m\u001b[0m\u001b[0;34m\u001b[0m\u001b[0m\n\u001b[1;32m   2904\u001b[0m                 \u001b[0mindexer\u001b[0m \u001b[0;34m=\u001b[0m \u001b[0;34m[\u001b[0m\u001b[0mindexer\u001b[0m\u001b[0;34m]\u001b[0m\u001b[0;34m\u001b[0m\u001b[0;34m\u001b[0m\u001b[0m\n",
      "\u001b[0;32m~/miniconda3/envs/geoesp_env/lib/python3.7/site-packages/pandas/core/indexes/base.py\u001b[0m in \u001b[0;36mget_loc\u001b[0;34m(self, key, method, tolerance)\u001b[0m\n\u001b[1;32m   2889\u001b[0m                 \u001b[0;32mreturn\u001b[0m \u001b[0mself\u001b[0m\u001b[0;34m.\u001b[0m\u001b[0m_engine\u001b[0m\u001b[0;34m.\u001b[0m\u001b[0mget_loc\u001b[0m\u001b[0;34m(\u001b[0m\u001b[0mcasted_key\u001b[0m\u001b[0;34m)\u001b[0m\u001b[0;34m\u001b[0m\u001b[0;34m\u001b[0m\u001b[0m\n\u001b[1;32m   2890\u001b[0m             \u001b[0;32mexcept\u001b[0m \u001b[0mKeyError\u001b[0m \u001b[0;32mas\u001b[0m \u001b[0merr\u001b[0m\u001b[0;34m:\u001b[0m\u001b[0;34m\u001b[0m\u001b[0;34m\u001b[0m\u001b[0m\n\u001b[0;32m-> 2891\u001b[0;31m                 \u001b[0;32mraise\u001b[0m \u001b[0mKeyError\u001b[0m\u001b[0;34m(\u001b[0m\u001b[0mkey\u001b[0m\u001b[0;34m)\u001b[0m \u001b[0;32mfrom\u001b[0m \u001b[0merr\u001b[0m\u001b[0;34m\u001b[0m\u001b[0;34m\u001b[0m\u001b[0m\n\u001b[0m\u001b[1;32m   2892\u001b[0m \u001b[0;34m\u001b[0m\u001b[0m\n\u001b[1;32m   2893\u001b[0m         \u001b[0;32mif\u001b[0m \u001b[0mtolerance\u001b[0m \u001b[0;32mis\u001b[0m \u001b[0;32mnot\u001b[0m \u001b[0;32mNone\u001b[0m\u001b[0;34m:\u001b[0m\u001b[0;34m\u001b[0m\u001b[0;34m\u001b[0m\u001b[0m\n",
      "\u001b[0;31mKeyError\u001b[0m: 'estimatedAccuracy'"
     ]
    }
   ],
   "source": [
    "display(cadastralZoning['estimatedAccuracy'].value_counts())\n",
    "display(cadastralZoning['estimatedAccuracy_uom'].value_counts())\n",
    "display(cadastralZoning['originalMapScaleDenominator'].value_counts())\n",
    "display(cadastralZoning['LocalisedCharacterString'].value_counts()) # son iguales ??"
   ]
  },
  {
   "cell_type": "code",
   "execution_count": 54,
   "metadata": {},
   "outputs": [],
   "source": [
    "cadastralZoning_uselessCols = ['estimatedAccuracy_uom', 'originalMapScaleDenominator', 'estimatedAccuracy', \n",
    "                              'namespace', 'endLifespanVersion']\n",
    "cadastralZoning.drop(cadastralZoning_uselessCols, axis = 1, inplace = True)"
   ]
  },
  {
   "cell_type": "code",
   "execution_count": 76,
   "metadata": {},
   "outputs": [],
   "source": [
    "# is localID == nationalCadastalZoningReference\n",
    "cadastralZoning.apply(lambda x : x['localId'] == x['nationalCadastalZoningReference'], axis = 1).value_counts() # All true\n",
    "cadastralZoning.drop(['nationalCadastalZoningReference'], axis = 1, inplace = True)"
   ]
  },
  {
   "cell_type": "code",
   "execution_count": 71,
   "metadata": {},
   "outputs": [],
   "source": [
    "# CHANGE YEAR (same as rest)\n",
    "cadastralZoning['yearOfConstruction'] = cadastralZoning['beginLifespanVersion'].apply(get_yearofConstruction)\n",
    "cadastralZoning.drop(['beginLifespanVersion'], axis = 1, inplace = True)"
   ]
  },
  {
   "cell_type": "code",
   "execution_count": 77,
   "metadata": {},
   "outputs": [
    {
     "data": {
      "text/html": [
       "<div>\n",
       "<style scoped>\n",
       "    .dataframe tbody tr th:only-of-type {\n",
       "        vertical-align: middle;\n",
       "    }\n",
       "\n",
       "    .dataframe tbody tr th {\n",
       "        vertical-align: top;\n",
       "    }\n",
       "\n",
       "    .dataframe thead th {\n",
       "        text-align: right;\n",
       "    }\n",
       "</style>\n",
       "<table border=\"1\" class=\"dataframe\">\n",
       "  <thead>\n",
       "    <tr style=\"text-align: right;\">\n",
       "      <th></th>\n",
       "      <th>gml_id</th>\n",
       "      <th>localId</th>\n",
       "      <th>label</th>\n",
       "      <th>LocalisedCharacterString</th>\n",
       "      <th>pos</th>\n",
       "      <th>geometry</th>\n",
       "      <th>yearOfConstruction</th>\n",
       "    </tr>\n",
       "  </thead>\n",
       "  <tbody>\n",
       "    <tr>\n",
       "      <th>0</th>\n",
       "      <td>ES.SDGC.CP.Z.28900A000</td>\n",
       "      <td>28900A000</td>\n",
       "      <td>000</td>\n",
       "      <td>POLIGONO</td>\n",
       "      <td>440302.42 4492704.6</td>\n",
       "      <td>MULTIPOLYGON (((440301.968 4492704.637, 440302...</td>\n",
       "      <td>2019</td>\n",
       "    </tr>\n",
       "    <tr>\n",
       "      <th>1</th>\n",
       "      <td>ES.SDGC.CP.Z.28900A001</td>\n",
       "      <td>28900A001</td>\n",
       "      <td>001</td>\n",
       "      <td>POLIGONO</td>\n",
       "      <td>444909.27 4497953.5</td>\n",
       "      <td>MULTIPOLYGON (((444555.092 4499363.444, 444568...</td>\n",
       "      <td>2019</td>\n",
       "    </tr>\n",
       "    <tr>\n",
       "      <th>2</th>\n",
       "      <td>ES.SDGC.CP.Z.28900A002</td>\n",
       "      <td>28900A002</td>\n",
       "      <td>002</td>\n",
       "      <td>POLIGONO</td>\n",
       "      <td>446474.92 4496527.94</td>\n",
       "      <td>MULTIPOLYGON (((445948.540 4496495.370, 445945...</td>\n",
       "      <td>2013</td>\n",
       "    </tr>\n",
       "    <tr>\n",
       "      <th>3</th>\n",
       "      <td>ES.SDGC.CP.Z.28900A003</td>\n",
       "      <td>28900A003</td>\n",
       "      <td>003</td>\n",
       "      <td>POLIGONO</td>\n",
       "      <td>447749.11 4494280.98</td>\n",
       "      <td>MULTIPOLYGON (((449091.096 4493635.359, 449089...</td>\n",
       "      <td>2014</td>\n",
       "    </tr>\n",
       "  </tbody>\n",
       "</table>\n",
       "</div>"
      ],
      "text/plain": [
       "                   gml_id    localId label LocalisedCharacterString  \\\n",
       "0  ES.SDGC.CP.Z.28900A000  28900A000   000                POLIGONO    \n",
       "1  ES.SDGC.CP.Z.28900A001  28900A001   001                POLIGONO    \n",
       "2  ES.SDGC.CP.Z.28900A002  28900A002   002                POLIGONO    \n",
       "3  ES.SDGC.CP.Z.28900A003  28900A003   003                POLIGONO    \n",
       "\n",
       "                    pos                                           geometry  \\\n",
       "0   440302.42 4492704.6  MULTIPOLYGON (((440301.968 4492704.637, 440302...   \n",
       "1   444909.27 4497953.5  MULTIPOLYGON (((444555.092 4499363.444, 444568...   \n",
       "2  446474.92 4496527.94  MULTIPOLYGON (((445948.540 4496495.370, 445945...   \n",
       "3  447749.11 4494280.98  MULTIPOLYGON (((449091.096 4493635.359, 449089...   \n",
       "\n",
       "  yearOfConstruction  \n",
       "0               2019  \n",
       "1               2019  \n",
       "2               2013  \n",
       "3               2014  "
      ]
     },
     "execution_count": 77,
     "metadata": {},
     "output_type": "execute_result"
    }
   ],
   "source": [
    "cadastralZoning.head(4)"
   ]
  },
  {
   "cell_type": "markdown",
   "metadata": {},
   "source": [
    "**_______________**\n",
    "\n",
    "**_______________**"
   ]
  },
  {
   "cell_type": "markdown",
   "metadata": {},
   "source": [
    "### CHECKING MEMORY USAGE"
   ]
  },
  {
   "cell_type": "code",
   "execution_count": 80,
   "metadata": {},
   "outputs": [
    {
     "name": "stdout",
     "output_type": "stream",
     "text": [
      "Building Layer total memory usage: \t\t\t1800.128 \tKbytes\n",
      "Building Parts Layer total memory usage: \t\t1600.128 \tKbytes\n",
      "Other Construction Layer total memory usage: \t\t442.432 \tKbytes\n",
      "Cadastral Parcel Layer total memory usage: \t\t1400.128 \tKbytes\n",
      "Cadastral Zoning Layer total memory usage: \t\t683.44 \t\tKbytes\n"
     ]
    }
   ],
   "source": [
    "print(f\"Building Layer total memory usage: \\t\\t\\t{building_df.memory_usage(index=True).sum()/1000} \\tKbytes\")\n",
    "print(f\"Building Parts Layer total memory usage: \\t\\t{buildingParts_df.memory_usage(index=True).sum()/1000} \\tKbytes\")\n",
    "print(f\"Other Construction Layer total memory usage: \\t\\t{otherConstruction_df.memory_usage(index=True).sum()/1000} \\tKbytes\")\n",
    "\n",
    "print(f\"Cadastral Parcel Layer total memory usage: \\t\\t{cadastralParcel.memory_usage(index=True).sum()/1000} \\tKbytes\")\n",
    "print(f\"Cadastral Zoning Layer total memory usage: \\t\\t{cadastralZoning.memory_usage(index=True).sum()/1000} \\t\\tKbytes\")"
   ]
  },
  {
   "cell_type": "markdown",
   "metadata": {},
   "source": [
    "--- INITIALLY---\n",
    "\n",
    "    Building Layer total memory usage: \t\t\t4825.128 \tKbytes\n",
    "Building Parts Layer total memory usage: \t\t2625.128 \tKbytes\n",
    "Other Construction Layer total memory usage: \t774.16 \t\tKbytes\n",
    "Cadastral Parcel Layer total memory usage: \t\t2200.128 \tKbytes\n",
    "Cadastral Zoning Layer total memory usage: \t\t1269.136 \tKbytes"
   ]
  },
  {
   "cell_type": "code",
   "execution_count": 83,
   "metadata": {},
   "outputs": [
    {
     "name": "stdout",
     "output_type": "stream",
     "text": [
      "Building Layer memory optimization: \t\t\t37.31 \t%\n",
      "Building Parts Layer memory optimization: \t\t60.95 \t%\n",
      "Other Construction Layer memory optimization: \t\t57.15 \t%\n",
      "Cadastral Parcel Layer memory optimization: \t\t63.64 \t%\n",
      "Cadastral Zoning Layer memory optimization: \t\t53.85 \t%\n"
     ]
    }
   ],
   "source": [
    "## CHANGE\n",
    "\n",
    "print(f\"Building Layer memory optimization: \\t\\t\\t{np.round(building_df.memory_usage(index=True).sum()/(10*4825.128), 2)} \\t%\")\n",
    "print(f\"Building Parts Layer memory optimization: \\t\\t{np.round(buildingParts_df.memory_usage(index=True).sum()/(10*2625.128), 2)} \\t%\")\n",
    "print(f\"Other Construction Layer memory optimization: \\t\\t{np.round(otherConstruction_df.memory_usage(index=True).sum()/(10*774.16), 2)} \\t%\")\n",
    "\n",
    "print(f\"Cadastral Parcel Layer memory optimization: \\t\\t{np.round(cadastralParcel.memory_usage(index=True).sum()/(10*2200.128), 2)} \\t%\")\n",
    "print(f\"Cadastral Zoning Layer memory optimization: \\t\\t{np.round(cadastralZoning.memory_usage(index=True).sum()/(10*1269.136), 2)} \\t%\")"
   ]
  },
  {
   "cell_type": "markdown",
   "metadata": {},
   "source": [
    "**_______________**\n",
    "\n",
    "**_______________**"
   ]
  },
  {
   "cell_type": "code",
   "execution_count": 84,
   "metadata": {},
   "outputs": [],
   "source": [
    "### CHECKINF WHICH COL IS BETTER TO CONNECT TABLES IN DDBB"
   ]
  },
  {
   "cell_type": "code",
   "execution_count": null,
   "metadata": {},
   "outputs": [],
   "source": []
  }
 ],
 "metadata": {
  "kernelspec": {
   "display_name": "geoesp_env",
   "language": "python",
   "name": "geoesp_env"
  },
  "language_info": {
   "codemirror_mode": {
    "name": "ipython",
    "version": 3
   },
   "file_extension": ".py",
   "mimetype": "text/x-python",
   "name": "python",
   "nbconvert_exporter": "python",
   "pygments_lexer": "ipython3",
   "version": "3.7.9"
  }
 },
 "nbformat": 4,
 "nbformat_minor": 4
}
