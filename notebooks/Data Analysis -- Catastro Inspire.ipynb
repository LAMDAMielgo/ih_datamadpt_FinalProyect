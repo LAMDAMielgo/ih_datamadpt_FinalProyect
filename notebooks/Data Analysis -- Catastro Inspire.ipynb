{
 "cells": [
  {
   "cell_type": "markdown",
   "metadata": {},
   "source": [
    "### DATA FROM CATASTRO INSPIRE\n",
    "___________________________________________________________________________________________________\n",
    "\n",
    "Obteined through qGIS after mingling from a while with:\n",
    "- WMS service: http://ovc.catastro.meh.es/cartografia/INSPIRE/spadgcwms.aspx\n",
    "- WFS buildings : http://ovc.catastro.meh.es/INSPIRE/wfsBU.aspx?\n",
    "- todos los serivicios INSPIRE: http://www.catastro.minhap.es/webinspire/index.html\n",
    "\n",
    "*Notas: el uso de los canales WMS/WFS devuelven las capas antes de unificar con el programa Europeo Inspire, por lo que quizá sea la razón por la que no funcionan bien.\n",
    "\n",
    "Existen varios GitHubs enfocados a consultas del catastro con python:\n",
    "- **[pyCatastro](#https://github.com/gisce/pycatastro)**: permite realizar consultas en formato API. \n",
    ">>- No permite la descarga total de datos en función de municipio y provincia\n",
    ">>- Devuelve diccionarios\n",
    ">>- Para descargarme Madrid, debería obtener (1) Todas las vías, (2) Todas las siglas e iterar, haciendo mogollón de llamadas (not a good idea)\n",
    "\n",
    "- **[catastro-lib-python](#https://github.com/sperea/catastro-lib-python)**: parece un antecersor del anterior. No se ha probado pues se dejó de actualizar en 2018\n",
    "- **[Catastro Inspire Downloader](#https://github.com/geomatico/cidownloader)**: realizados por los mismos cartógrafos y desarrolladores que el complemento de qGIS, permite descargar datos en formato .geopackage\n",
    ">>- Permite descargar según provincia, municipio y proyección\n",
    ">>- Es poco consistente: al descargar Madrid a veces devuelve sólo datos de CadastralParcel o de BuildingParts. Comparando con los gmls incluidos en ZIPs que se pueden descargar a parte, los datos son incompletos. Posiblemente se un problema con la librería GDAL.\n"
   ]
  },
  {
   "cell_type": "code",
   "execution_count": 3,
   "metadata": {},
   "outputs": [],
   "source": [
    "import pandas as pd\n",
    "import numpy as np\n",
    "\n",
    "import geopandas as gpd\n",
    "import geojson\n",
    "\n",
    "pd.set_option('display.max_rows', 1000)"
   ]
  },
  {
   "cell_type": "markdown",
   "metadata": {},
   "source": [
    "### CAPAS DISPONIBLES"
   ]
  },
  {
   "cell_type": "markdown",
   "metadata": {},
   "source": [
    "Dada el volumen de datos, la inspección de éstos se realiza sobre una parte de éstos"
   ]
  },
  {
   "cell_type": "code",
   "execution_count": 4,
   "metadata": {},
   "outputs": [],
   "source": [
    "CATASTRO_PATH = '../data/raw/catastro'\n",
    "\n",
    "# Dentro de los datos displibles hay 4 capas en formato geojson\n",
    "\n",
    "building_df = gpd.read_file(f\"{CATASTRO_PATH}/A.ES.SDGC.BU.28900.building.geojson\", rows = 25000)\n",
    "buildingParts_df = gpd.read_file(f\"{CATASTRO_PATH}/A.ES.SDGC.BU.28900.buildingpart.geojson\", rows = 25000) # pt 1\n",
    "otherConstruction_df = gpd.read_file(f\"{CATASTRO_PATH}/A.ES.SDGC.BU.28900.otherconstruction.geojson\", rows = 25000)\n",
    "\n",
    "cadastralParcel = gpd.read_file(f\"{CATASTRO_PATH}/A.ES.SDGC.CP.28900.cadastralparcel.geojson\", rows = 25000)\n",
    "cadastralZoning = gpd.read_file(f\"{CATASTRO_PATH}/A.ES.SDGC.CP.28900.cadastralzoning.geojson\", rows = 25000)"
   ]
  },
  {
   "cell_type": "markdown",
   "metadata": {},
   "source": [
    "Checkeo de uso de memoria"
   ]
  },
  {
   "cell_type": "code",
   "execution_count": 5,
   "metadata": {},
   "outputs": [
    {
     "name": "stdout",
     "output_type": "stream",
     "text": [
      "Building Layer total memory usage: \t\t\t4825.128 \tKbytes\n",
      "Building Parts Layer total memory usage: \t\t2625.128 \tKbytes\n",
      "Other Construction Layer total memory usage: \t\t774.16 \t\tKbytes\n",
      "Cadastral Parcel Layer total memory usage: \t\t2200.128 \tKbytes\n",
      "Cadastral Zoning Layer total memory usage: \t\t1269.136 \tKbytes\n"
     ]
    }
   ],
   "source": [
    "print(f\"Building Layer total memory usage: \\t\\t\\t{building_df.memory_usage(index=True).sum()/1000} \\tKbytes\")\n",
    "print(f\"Building Parts Layer total memory usage: \\t\\t{buildingParts_df.memory_usage(index=True).sum()/1000} \\tKbytes\")\n",
    "print(f\"Other Construction Layer total memory usage: \\t\\t{otherConstruction_df.memory_usage(index=True).sum()/1000} \\t\\tKbytes\")\n",
    "print(f\"Cadastral Parcel Layer total memory usage: \\t\\t{cadastralParcel.memory_usage(index=True).sum()/1000} \\tKbytes\")\n",
    "print(f\"Cadastral Zoning Layer total memory usage: \\t\\t{cadastralZoning.memory_usage(index=True).sum()/1000} \\tKbytes\")"
   ]
  },
  {
   "cell_type": "code",
   "execution_count": 6,
   "metadata": {},
   "outputs": [],
   "source": [
    "## NAMES OF GEO\n",
    "building_df.name = 'BU_ALL'\n",
    "buildingParts_df.name = 'BU_PARTS'\n",
    "otherConstruction_df.name = 'BU_OTHER'\n",
    "cadastralParcel.name = 'CAD_PARCEL'\n",
    "cadastralZoning.name = 'CAD_ZONING'"
   ]
  },
  {
   "cell_type": "markdown",
   "metadata": {},
   "source": [
    "## 1.1 Building Layer"
   ]
  },
  {
   "cell_type": "markdown",
   "metadata": {},
   "source": [
    "En qGIS esta capa representa la parte edificada de los solares."
   ]
  },
  {
   "cell_type": "code",
   "execution_count": 9,
   "metadata": {},
   "outputs": [
    {
     "name": "stdout",
     "output_type": "stream",
     "text": [
      "<class 'geopandas.geodataframe.GeoDataFrame'>\n",
      "RangeIndex: 25000 entries, 0 to 24999\n",
      "Data columns (total 25 columns):\n",
      " #   Column                                   Non-Null Count  Dtype   \n",
      "---  ------                                   --------------  -----   \n",
      " 0   gml_id                                   25000 non-null  object  \n",
      " 1   beginLifespanVersion                     25000 non-null  object  \n",
      " 2   conditionOfConstruction                  25000 non-null  object  \n",
      " 3   beginning                                25000 non-null  object  \n",
      " 4   end                                      25000 non-null  object  \n",
      " 5   endLifespanVersion                       13 non-null     object  \n",
      " 6   informationSystem                        25000 non-null  object  \n",
      " 7   reference                                25000 non-null  object  \n",
      " 8   localId                                  25000 non-null  object  \n",
      " 9   namespace                                25000 non-null  object  \n",
      " 10  horizontalGeometryEstimatedAccuracy      25000 non-null  float64 \n",
      " 11  horizontalGeometryEstimatedAccuracy_uom  25000 non-null  object  \n",
      " 12  horizontalGeometryReference              25000 non-null  object  \n",
      " 13  referenceGeometry                        25000 non-null  bool    \n",
      " 14  currentUse                               24721 non-null  object  \n",
      " 15  numberOfBuildingUnits                    25000 non-null  int64   \n",
      " 16  numberOfDwellings                        25000 non-null  int64   \n",
      " 17  numberOfFloorsAboveGround                0 non-null      object  \n",
      " 18  documentLink                             25000 non-null  object  \n",
      " 19  format                                   25000 non-null  object  \n",
      " 20  sourceStatus                             25000 non-null  object  \n",
      " 21  officialAreaReference                    25000 non-null  object  \n",
      " 22  value                                    25000 non-null  int64   \n",
      " 23  value_uom                                25000 non-null  object  \n",
      " 24  geometry                                 25000 non-null  geometry\n",
      "dtypes: bool(1), float64(1), geometry(1), int64(3), object(19)\n",
      "memory usage: 4.6+ MB\n"
     ]
    },
    {
     "data": {
      "text/plain": [
       "None"
      ]
     },
     "metadata": {},
     "output_type": "display_data"
    },
    {
     "data": {
      "text/plain": [
       "(25000, 25)"
      ]
     },
     "metadata": {},
     "output_type": "display_data"
    }
   ],
   "source": [
    "display(building_df.info())\n",
    "display(building_df.shape)"
   ]
  },
  {
   "cell_type": "code",
   "execution_count": 6,
   "metadata": {
    "scrolled": true
   },
   "outputs": [
    {
     "data": {
      "text/plain": [
       "gml_id                                         0\n",
       "beginLifespanVersion                           0\n",
       "conditionOfConstruction                        0\n",
       "beginning                                      0\n",
       "end                                            0\n",
       "endLifespanVersion                         24987\n",
       "informationSystem                              0\n",
       "reference                                      0\n",
       "localId                                        0\n",
       "namespace                                      0\n",
       "horizontalGeometryEstimatedAccuracy            0\n",
       "horizontalGeometryEstimatedAccuracy_uom        0\n",
       "horizontalGeometryReference                    0\n",
       "referenceGeometry                              0\n",
       "currentUse                                   279\n",
       "numberOfBuildingUnits                          0\n",
       "numberOfDwellings                              0\n",
       "numberOfFloorsAboveGround                  25000\n",
       "documentLink                                   0\n",
       "format                                         0\n",
       "sourceStatus                                   0\n",
       "officialAreaReference                          0\n",
       "value                                          0\n",
       "value_uom                                      0\n",
       "geometry                                       0\n",
       "dtype: int64"
      ]
     },
     "execution_count": 6,
     "metadata": {},
     "output_type": "execute_result"
    }
   ],
   "source": [
    "building_df.isna().sum()"
   ]
  },
  {
   "cell_type": "markdown",
   "metadata": {},
   "source": [
    "**GETTING RID OF USELESS COLUMNS**"
   ]
  },
  {
   "cell_type": "code",
   "execution_count": 7,
   "metadata": {},
   "outputs": [],
   "source": [
    "# DROP NULL COLUMNS\n",
    "# There are a couple of columns that do not offer any information\n",
    "\n",
    "building_nullCols = ['numberOfFloorsAboveGround', 'endLifespanVersion']\n",
    "building_linkCols = ['documentLink', 'format', 'informationSystem']\n",
    "building_measureCols = ['horizontalGeometryEstimatedAccuracy', 'value_uom', 'sourceStatus',\n",
    "                        'horizontalGeometryEstimatedAccuracy_uom', 'horizontalGeometryReference', \n",
    "                        'officialAreaReference']\n",
    "\n",
    "building_df.drop(building_nullCols,    axis=1, inplace = True)\n",
    "building_df.drop(building_linkCols,    axis=1, inplace = True)\n",
    "building_df.drop(building_measureCols, axis=1, inplace = True)\n",
    "\n",
    "# horizontalGeometryEstimatedAccuracy is always 0.1m accuracy"
   ]
  },
  {
   "cell_type": "code",
   "execution_count": 8,
   "metadata": {},
   "outputs": [],
   "source": [
    "# CORRECTING GROSS FLOOR AREA\n",
    "# officialAreaReference - value - value_uom are columns that refer to the same information\n",
    "\n",
    "building_df.rename(columns={\"value\": \"grossFloorArea\"}, inplace = True)\n",
    "# building_df.drop(['officialAreaReference'], axis=1, inplace = True)"
   ]
  },
  {
   "cell_type": "code",
   "execution_count": 9,
   "metadata": {},
   "outputs": [
    {
     "data": {
      "text/plain": [
       "True     24166\n",
       "False      834\n",
       "Name: Equal_beg_end, dtype: int64"
      ]
     },
     "execution_count": 9,
     "metadata": {},
     "output_type": "execute_result"
    }
   ],
   "source": [
    "# SIMPLIFYING DATE COLUMNS\n",
    "# changes between them migt be because of difference between registration or CFO.\n",
    "# end column has no sense in the context of this project\n",
    "\n",
    "building_dateCols = ['beginLifespanVersion', 'beginning', 'end']\n",
    "\n",
    "# ARE beginning and end the same\n",
    "\n",
    "building_df['Equal_beg_end'] = building_df.apply(lambda x: x['beginning'] == x['end'], axis = 1)\n",
    "building_df['Equal_beg_end'].value_counts()"
   ]
  },
  {
   "cell_type": "markdown",
   "metadata": {},
   "source": [
    "Let's see the rest of DATES columns.\n",
    "In the [bibliography](#http://www.catastro.minhap.es/webinspire/documentos/Conjuntos%20de%20datos.pdf) it says:\n",
    ">- **beginLifespanVersion**: Fecha desde cuándo se ha dado de alta en la base de datos\n",
    "catastral. \n",
    ">- **dateOfConstruction**: estructura que define la fecha de construcción. Está compuesta por dos atributos: bu-c**ore2d:beginning y bu-core2d:end**; los valores son las fechas de construcción de cada unidad constructiva, si hay más de una en el campo **“beginning” se incluye la más antigua y en el campo “end” la más moderna** Siempre se referencian al 1 de enero . \n",
    "\n",
    "**______**\n",
    "Para este proyecto, sólo nos interesa la columna beginning"
   ]
  },
  {
   "cell_type": "code",
   "execution_count": 10,
   "metadata": {},
   "outputs": [
    {
     "name": "stdout",
     "output_type": "stream",
     "text": [
      "FOR BUILDINGS WITH THE DIFFERENT BEGINNING AND END DATES. CONDITION OF CONSTRUCTION\n",
      "Functional : \t833\n",
      "Declined : \t0\n",
      "Ruins : \t1\n"
     ]
    }
   ],
   "source": [
    "# Dont know what this means.. could be buildings that are demolished or abandoned\n",
    "# Lets look to the first row reference = 000207800VK56E\n",
    "# Sede Electronica del Catastro says that this building has been built in 2004, the *end* year\n",
    "# Most plausible cause is that the builing is abandoned, in construction etc, is a phase of reconstruction\n",
    "\n",
    "# conditionOfConstruction should be different\n",
    "# Lets see that\n",
    "\n",
    "c_functional, c_declined, c_ruin = 0, 0, 0\n",
    "\n",
    "for ref in building_df[building_df['Equal_beg_end'] == False]['reference'].tolist() :\n",
    "    if building_df[building_df['reference'] == ref]['conditionOfConstruction'].tolist()[0] == 'functional':\n",
    "        c_functional += 1\n",
    "    elif building_df[building_df['reference'] == ref]['conditionOfConstruction'].tolist()[0] == 'declined':\n",
    "        c_declined += 1\n",
    "    elif building_df[building_df['reference'] == ref]['conditionOfConstruction'].tolist()[0] == 'ruin':\n",
    "        c_ruin += 1\n",
    "    else:\n",
    "        pass\n",
    "\n",
    "print(f\"FOR BUILDINGS WITH THE DIFFERENT BEGINNING AND END DATES. CONDITION OF CONSTRUCTION\")\n",
    "print(f\"Functional : \\t{c_functional}\")\n",
    "print(f\"Declined : \\t{c_declined}\")\n",
    "print(f\"Ruins : \\t{c_ruin}\")\n",
    "\n",
    "# There should be another category\n",
    "# Buildings that may have another new cadastral reference for unknown reasons"
   ]
  },
  {
   "cell_type": "code",
   "execution_count": 11,
   "metadata": {},
   "outputs": [
    {
     "data": {
      "text/plain": [
       "functional    24592\n",
       "-               248\n",
       "declined        109\n",
       "ruin             51\n",
       "Name: conditionOfConstruction, dtype: int64"
      ]
     },
     "execution_count": 11,
     "metadata": {},
     "output_type": "execute_result"
    }
   ],
   "source": [
    "# LETS SEE CONDITION OF CONSTRUCTION COLUMN\n",
    "building_df['conditionOfConstruction'].value_counts()"
   ]
  },
  {
   "cell_type": "code",
   "execution_count": 12,
   "metadata": {},
   "outputs": [],
   "source": [
    "# LETS ADD another category for demolished buildings, that reflects beginning != end\n",
    "# por tanto, los edificios en donde se ha construido suelen son edificios funcionales\n",
    "# \n",
    "# Como se ha dicho más arriba, sólo nos interesa la columna BEGINNING para efectos de este proyecto\n",
    "\n",
    "building_df.drop(['Equal_beg_end', 'end', 'beginLifespanVersion'], axis = 1, inplace = True)"
   ]
  },
  {
   "cell_type": "code",
   "execution_count": 13,
   "metadata": {},
   "outputs": [],
   "source": [
    "import datetime as dt\n",
    "\n",
    "building_df['dateOfConstruction'] = building_df['beginning'].apply(lambda x: \n",
    "                                    dt.datetime.strptime(x,'%Y-%m-%dT%H:%M:%S'))\n",
    "\n",
    "# Out of bounds nanosecond timestamp: 1640-01-01 00:00:00\n",
    "# Pandas required YEARS to be inside de bound of 1670 - 2560,\n",
    "# Because of the nature of data, datetime methods cannot be used for this case\n",
    "\n",
    "def get_yearofConstruction(strng):\n",
    "    \"\"\"\n",
    "    Input:  string\n",
    "    Output: year as string\n",
    "    \"\"\"\n",
    "    first_w = strng.split('T')[0]\n",
    "    # Not using datetime from pandas, not valid for this case\n",
    "    return first_w.split('-')[0]\n",
    "\n",
    "building_df['yearOfConstruction'] = building_df['beginning'].apply(get_yearofConstruction)"
   ]
  },
  {
   "cell_type": "code",
   "execution_count": 14,
   "metadata": {},
   "outputs": [],
   "source": [
    "building_df.drop(['beginning', 'dateOfConstruction'], axis = 1, inplace = True)"
   ]
  },
  {
   "cell_type": "markdown",
   "metadata": {},
   "source": [
    "**____________________________________________________________________________________________________________**"
   ]
  },
  {
   "cell_type": "code",
   "execution_count": 15,
   "metadata": {},
   "outputs": [
    {
     "data": {
      "text/html": [
       "<div>\n",
       "<style scoped>\n",
       "    .dataframe tbody tr th:only-of-type {\n",
       "        vertical-align: middle;\n",
       "    }\n",
       "\n",
       "    .dataframe tbody tr th {\n",
       "        vertical-align: top;\n",
       "    }\n",
       "\n",
       "    .dataframe thead th {\n",
       "        text-align: right;\n",
       "    }\n",
       "</style>\n",
       "<table border=\"1\" class=\"dataframe\">\n",
       "  <thead>\n",
       "    <tr style=\"text-align: right;\">\n",
       "      <th></th>\n",
       "      <th>gml_id</th>\n",
       "      <th>reference</th>\n",
       "      <th>localId</th>\n",
       "      <th>namespace</th>\n",
       "    </tr>\n",
       "  </thead>\n",
       "  <tbody>\n",
       "    <tr>\n",
       "      <th>count</th>\n",
       "      <td>25000</td>\n",
       "      <td>25000</td>\n",
       "      <td>25000</td>\n",
       "      <td>25000</td>\n",
       "    </tr>\n",
       "    <tr>\n",
       "      <th>unique</th>\n",
       "      <td>25000</td>\n",
       "      <td>25000</td>\n",
       "      <td>25000</td>\n",
       "      <td>1</td>\n",
       "    </tr>\n",
       "    <tr>\n",
       "      <th>top</th>\n",
       "      <td>ES.SDGC.BU.1110603VK4801B</td>\n",
       "      <td>0060113VK4706A</td>\n",
       "      <td>0060113VK4706A</td>\n",
       "      <td>ES.SDGC.BU</td>\n",
       "    </tr>\n",
       "    <tr>\n",
       "      <th>freq</th>\n",
       "      <td>1</td>\n",
       "      <td>1</td>\n",
       "      <td>1</td>\n",
       "      <td>25000</td>\n",
       "    </tr>\n",
       "  </tbody>\n",
       "</table>\n",
       "</div>"
      ],
      "text/plain": [
       "                           gml_id       reference         localId   namespace\n",
       "count                       25000           25000           25000       25000\n",
       "unique                      25000           25000           25000           1\n",
       "top     ES.SDGC.BU.1110603VK4801B  0060113VK4706A  0060113VK4706A  ES.SDGC.BU\n",
       "freq                            1               1               1       25000"
      ]
     },
     "execution_count": 15,
     "metadata": {},
     "output_type": "execute_result"
    }
   ],
   "source": [
    "# THERE ARE COLUMNS THAT MAY DUPLICATE INFORMATION\n",
    "# To join with the rest of data, parcels, buildingparts... share an ID\n",
    "# Which col is the ID ??\n",
    "\n",
    "cols_id = ['gml_id', 'reference', 'localId', 'namespace']\n",
    "\n",
    "# Reference == localID ?? \n",
    "# See if there are unique values, or repeteated values (this info has to be contrasted with the rest of geojson)\n",
    "\n",
    "building_df[cols_id].describe()\n",
    "\n",
    "# All elements are unique (as expected)\n",
    "# SHOULD COINCIDE WITH PARCELS\n",
    "# gml_id for later"
   ]
  },
  {
   "cell_type": "code",
   "execution_count": 16,
   "metadata": {},
   "outputs": [],
   "source": [
    "# Are reference and localID the same? \n",
    "building_df.apply(lambda x: x['reference'] == x['localId'], axis = 1).value_counts() # TRUE\n",
    "# What is reference Geometry ?\n",
    "building_df['referenceGeometry'].value_counts() # All true --> Dropping\n",
    "\n",
    "# Dropping reference and namespace\n",
    "building_df.drop(['reference', 'namespace', 'referenceGeometry'], axis = 1, inplace = True)"
   ]
  },
  {
   "cell_type": "code",
   "execution_count": 130,
   "metadata": {},
   "outputs": [
    {
     "data": {
      "text/html": [
       "<div>\n",
       "<style scoped>\n",
       "    .dataframe tbody tr th:only-of-type {\n",
       "        vertical-align: middle;\n",
       "    }\n",
       "\n",
       "    .dataframe tbody tr th {\n",
       "        vertical-align: top;\n",
       "    }\n",
       "\n",
       "    .dataframe thead th {\n",
       "        text-align: right;\n",
       "    }\n",
       "</style>\n",
       "<table border=\"1\" class=\"dataframe\">\n",
       "  <thead>\n",
       "    <tr style=\"text-align: right;\">\n",
       "      <th></th>\n",
       "      <th>gml_id</th>\n",
       "      <th>conditionOfConstruction</th>\n",
       "      <th>localId</th>\n",
       "      <th>currentUse</th>\n",
       "      <th>numberOfBuildingUnits</th>\n",
       "      <th>numberOfDwellings</th>\n",
       "      <th>grossFloorArea</th>\n",
       "      <th>geometry</th>\n",
       "      <th>yearOfConstruction</th>\n",
       "    </tr>\n",
       "  </thead>\n",
       "  <tbody>\n",
       "    <tr>\n",
       "      <th>0</th>\n",
       "      <td>ES.SDGC.BU.  VK4700H</td>\n",
       "      <td>-</td>\n",
       "      <td>VK4700H</td>\n",
       "      <td>None</td>\n",
       "      <td>0</td>\n",
       "      <td>0</td>\n",
       "      <td>0</td>\n",
       "      <td>POLYGON ((440433.629 4470953.961, 440432.170 4...</td>\n",
       "      <td>2000</td>\n",
       "    </tr>\n",
       "    <tr>\n",
       "      <th>1</th>\n",
       "      <td>ES.SDGC.BU.00006Z8VK4800A</td>\n",
       "      <td>-</td>\n",
       "      <td>00006Z8VK4800A</td>\n",
       "      <td>None</td>\n",
       "      <td>0</td>\n",
       "      <td>0</td>\n",
       "      <td>0</td>\n",
       "      <td>POLYGON ((440020.830 4479859.707, 440020.064 4...</td>\n",
       "      <td>2000</td>\n",
       "    </tr>\n",
       "  </tbody>\n",
       "</table>\n",
       "</div>"
      ],
      "text/plain": [
       "                      gml_id conditionOfConstruction         localId  \\\n",
       "0       ES.SDGC.BU.  VK4700H                       -         VK4700H   \n",
       "1  ES.SDGC.BU.00006Z8VK4800A                       -  00006Z8VK4800A   \n",
       "\n",
       "  currentUse  numberOfBuildingUnits  numberOfDwellings  grossFloorArea  \\\n",
       "0       None                      0                  0               0   \n",
       "1       None                      0                  0               0   \n",
       "\n",
       "                                            geometry yearOfConstruction  \n",
       "0  POLYGON ((440433.629 4470953.961, 440432.170 4...               2000  \n",
       "1  POLYGON ((440020.830 4479859.707, 440020.064 4...               2000  "
      ]
     },
     "execution_count": 130,
     "metadata": {},
     "output_type": "execute_result"
    }
   ],
   "source": [
    "building_df.head(2)"
   ]
  },
  {
   "cell_type": "markdown",
   "metadata": {},
   "source": [
    "**____________________________________________________________________________________________________________**"
   ]
  },
  {
   "cell_type": "markdown",
   "metadata": {},
   "source": [
    "**____________________________________________________________________________________________________________**"
   ]
  },
  {
   "cell_type": "markdown",
   "metadata": {},
   "source": [
    "## 1.2 Building Parts Layer"
   ]
  },
  {
   "cell_type": "code",
   "execution_count": 10,
   "metadata": {},
   "outputs": [
    {
     "name": "stdout",
     "output_type": "stream",
     "text": [
      "<class 'geopandas.geodataframe.GeoDataFrame'>\n",
      "RangeIndex: 25000 entries, 0 to 24999\n",
      "Data columns (total 14 columns):\n",
      " #   Column                                   Non-Null Count  Dtype   \n",
      "---  ------                                   --------------  -----   \n",
      " 0   gml_id                                   25000 non-null  object  \n",
      " 1   beginLifespanVersion                     25000 non-null  object  \n",
      " 2   conditionOfConstruction                  0 non-null      object  \n",
      " 3   localId                                  25000 non-null  object  \n",
      " 4   namespace                                25000 non-null  object  \n",
      " 5   horizontalGeometryEstimatedAccuracy      25000 non-null  float64 \n",
      " 6   horizontalGeometryEstimatedAccuracy_uom  25000 non-null  object  \n",
      " 7   horizontalGeometryReference              25000 non-null  object  \n",
      " 8   referenceGeometry                        25000 non-null  bool    \n",
      " 9   numberOfFloorsAboveGround                25000 non-null  int64   \n",
      " 10  heightBelowGround                        25000 non-null  int64   \n",
      " 11  heightBelowGround_uom                    25000 non-null  object  \n",
      " 12  numberOfFloorsBelowGround                25000 non-null  int64   \n",
      " 13  geometry                                 25000 non-null  geometry\n",
      "dtypes: bool(1), float64(1), geometry(1), int64(3), object(8)\n",
      "memory usage: 2.5+ MB\n"
     ]
    },
    {
     "data": {
      "text/plain": [
       "None"
      ]
     },
     "metadata": {},
     "output_type": "display_data"
    },
    {
     "data": {
      "text/plain": [
       "(25000, 14)"
      ]
     },
     "metadata": {},
     "output_type": "display_data"
    }
   ],
   "source": [
    "display(buildingParts_df.info())\n",
    "display(buildingParts_df.shape)"
   ]
  },
  {
   "cell_type": "code",
   "execution_count": 59,
   "metadata": {},
   "outputs": [],
   "source": [
    "def checking_forEmpties(gdf):\n",
    "    \"\"\"\n",
    "    input: dataframe\n",
    "    output: only the names and counts of cols with null values.\n",
    "    Shortens pipeline\n",
    "    \"\"\"\n",
    "    print(f\"-- Checking for NULLs in {gdf.name} --\")\n",
    "    for col, count in zip(gdf.isna().sum().index.tolist(), gdf.isna().sum().tolist()):\n",
    "        if count != 0: print(f\"\\tCol with nulls: \\t{col} \\t-\\t {count}\")\n",
    "        else: pass\n",
    "    print(f\"-- Finished task --\\n\")\n",
    "\n",
    "\n",
    "def checking_forUniques(gdf):\n",
    "    \"\"\"\n",
    "    input\n",
    "    output\n",
    "    \"\"\"\n",
    "    cols_with_one_element = []\n",
    "    print(f\"-- Checking for UNIQUES in {gdf.name} --\")\n",
    "    \n",
    "    for i,col in enumerate(gdf.columns.tolist()):        \n",
    "        if col != 'geometry':\n",
    "            unique_len = len(gdf[str(col)].value_counts().tolist())\n",
    "            \n",
    "            if len(col) <= 9: print(f\"{i+1}.{col}: \\t\\t\\t\\t\\t {unique_len} \\t Unique items\")\n",
    "            elif len(col) <= 17: print(f\"{i+1}.{col}: \\t\\t\\t\\t {unique_len} \\t Unique items\")\n",
    "            elif 10 < len(col) <= 28: print(f\"{i+1}.{col}: \\t\\t\\t {unique_len} \\t Unique items\")\n",
    "            elif 28 < len(col): print(f\"{i+1}.{col}: \\t\\t {unique_len} \\t Unique items\")\n",
    "            else: pass\n",
    "            \n",
    "            if unique_len == 1: cols_with_one_element.append(col)\n",
    "            else: pass\n",
    "            \n",
    "        else: pass\n",
    "    return cols_with_one_element\n",
    "    print(f\"-- Finished task --\\n\")\n",
    "    \n",
    "# SEPARATING localId from its parts\n",
    "def get_part(x):\n",
    "    \"\"\"\n",
    "    input: col withs IDs_partXX\n",
    "    output: XX as int\n",
    "    Get numeric item in partXX from ID_partXX\n",
    "    \"\"\"\n",
    "    part_str = x.split('_')[1]\n",
    "    return int(part_str.split('t')[1])\n",
    "\n",
    "def get_ID(x):\n",
    "    \"\"\"\n",
    "    input: localID_partXX\n",
    "    output: localID\n",
    "    \"\"\"\n",
    "    return x.split('_')[0]"
   ]
  },
  {
   "cell_type": "code",
   "execution_count": 60,
   "metadata": {},
   "outputs": [
    {
     "name": "stdout",
     "output_type": "stream",
     "text": [
      "-- Checking for NULLs in BU_PARTS --\n",
      "\tCol with nulls: \tconditionOfConstruction \t-\t 25000\n",
      "-- Finished task --\n",
      "\n",
      "-- Checking for UNIQUES in BU_PARTS --\n",
      "1.gml_id: \t\t\t\t\t 25000 \t Unique items\n",
      "2.beginLifespanVersion: \t\t\t 974 \t Unique items\n",
      "3.conditionOfConstruction: \t\t\t 0 \t Unique items\n",
      "4.localId: \t\t\t\t\t 25000 \t Unique items\n",
      "5.namespace: \t\t\t\t\t 1 \t Unique items\n",
      "6.horizontalGeometryEstimatedAccuracy: \t\t 1 \t Unique items\n",
      "7.horizontalGeometryEstimatedAccuracy_uom: \t\t 1 \t Unique items\n",
      "8.horizontalGeometryReference: \t\t\t 1 \t Unique items\n",
      "9.referenceGeometry: \t\t\t\t 1 \t Unique items\n",
      "10.numberOfFloorsAboveGround: \t\t\t 21 \t Unique items\n",
      "11.heightBelowGround: \t\t\t\t 11 \t Unique items\n",
      "12.heightBelowGround_uom: \t\t\t 1 \t Unique items\n",
      "13.numberOfFloorsBelowGround: \t\t\t 11 \t Unique items\n"
     ]
    }
   ],
   "source": [
    "checking_forEmpties(buildingParts_df)\n",
    "cols_with_one_element = checking_forUniques(buildingParts_df)"
   ]
  },
  {
   "cell_type": "code",
   "execution_count": 27,
   "metadata": {},
   "outputs": [
    {
     "data": {
      "text/plain": [
       "['namespace',\n",
       " 'horizontalGeometryEstimatedAccuracy',\n",
       " 'horizontalGeometryEstimatedAccuracy_uom',\n",
       " 'horizontalGeometryReference',\n",
       " 'referenceGeometry',\n",
       " 'heightBelowGround_uom']"
      ]
     },
     "execution_count": 27,
     "metadata": {},
     "output_type": "execute_result"
    }
   ],
   "source": [
    "buildingParts_df.c"
   ]
  },
  {
   "cell_type": "code",
   "execution_count": 61,
   "metadata": {},
   "outputs": [
    {
     "data": {
      "text/plain": [
       "39"
      ]
     },
     "execution_count": 61,
     "metadata": {},
     "output_type": "execute_result"
    }
   ],
   "source": [
    "len('horizontalGeometryEstimatedAccuracy_uom')"
   ]
  },
  {
   "cell_type": "code",
   "execution_count": 23,
   "metadata": {},
   "outputs": [],
   "source": [
    "# DROPING USELESS \n",
    "buildingParts_measureCols = ['heightBelowGround_uom','horizontalGeometryEstimatedAccuracy',\n",
    "                             'horizontalGeometryEstimatedAccuracy_uom', 'horizontalGeometryReference',\n",
    "                            'referenceGeometry']\n",
    "\n",
    "buildingParts_nullCols = ['conditionOfConstruction']\n",
    "builingParts_repCols = ['namespace']\n",
    "\n",
    "buildingParts_df.drop(buildingParts_measureCols, axis=1, inplace = True)\n",
    "buildingParts_df.drop(buildingParts_nullCols,    axis=1, inplace = True)\n",
    "buildingParts_df.drop(builingParts_repCols,      axis=1, inplace = True)"
   ]
  },
  {
   "cell_type": "code",
   "execution_count": 24,
   "metadata": {},
   "outputs": [],
   "source": [
    "# GETTING YEAR OF CONSTRUCTION\n",
    "buildingParts_df['yearOfConstruction'] = buildingParts_df['beginLifespanVersion'].apply(get_yearofConstruction)\n",
    "\n",
    "# DROPING OLD COLUMN\n",
    "buildingParts_df.drop(['beginLifespanVersion'], axis = 1, inplace = True)"
   ]
  },
  {
   "cell_type": "code",
   "execution_count": 25,
   "metadata": {},
   "outputs": [],
   "source": [
    "# SEPARATING localId from its parts\n",
    "buildingParts_df['locadID_parts'] = buildingParts_df['localId'].apply(get_part).astype(dtype = 'int64')\n",
    "buildingParts_df['locadID'] = buildingParts_df['localId'].apply(get_ID)\n",
    "\n",
    "buildingParts_df.drop(['localId'], axis = 1, inplace = True)"
   ]
  },
  {
   "cell_type": "code",
   "execution_count": 88,
   "metadata": {},
   "outputs": [],
   "source": [
    "# CLEANING gml_id\n",
    "buildingParts_df['gml_id'] = buildingParts_df['gml_id'].apply(get_ID)"
   ]
  },
  {
   "cell_type": "code",
   "execution_count": 129,
   "metadata": {},
   "outputs": [
    {
     "data": {
      "text/html": [
       "<div>\n",
       "<style scoped>\n",
       "    .dataframe tbody tr th:only-of-type {\n",
       "        vertical-align: middle;\n",
       "    }\n",
       "\n",
       "    .dataframe tbody tr th {\n",
       "        vertical-align: top;\n",
       "    }\n",
       "\n",
       "    .dataframe thead th {\n",
       "        text-align: right;\n",
       "    }\n",
       "</style>\n",
       "<table border=\"1\" class=\"dataframe\">\n",
       "  <thead>\n",
       "    <tr style=\"text-align: right;\">\n",
       "      <th></th>\n",
       "      <th>gml_id</th>\n",
       "      <th>numberOfFloorsAboveGround</th>\n",
       "      <th>heightBelowGround</th>\n",
       "      <th>numberOfFloorsBelowGround</th>\n",
       "      <th>geometry</th>\n",
       "      <th>yearOfConstruction</th>\n",
       "      <th>locadID_parts</th>\n",
       "      <th>locadID</th>\n",
       "    </tr>\n",
       "  </thead>\n",
       "  <tbody>\n",
       "    <tr>\n",
       "      <th>0</th>\n",
       "      <td>ES.SDGC.BU.000200100VK48E</td>\n",
       "      <td>1</td>\n",
       "      <td>0</td>\n",
       "      <td>0</td>\n",
       "      <td>POLYGON ((441657.574 4487050.292, 441658.164 4...</td>\n",
       "      <td>2004</td>\n",
       "      <td>1</td>\n",
       "      <td>000200100VK48E</td>\n",
       "    </tr>\n",
       "    <tr>\n",
       "      <th>1</th>\n",
       "      <td>ES.SDGC.BU.000200500VK56E</td>\n",
       "      <td>1</td>\n",
       "      <td>0</td>\n",
       "      <td>0</td>\n",
       "      <td>POLYGON ((451584.920 4467181.410, 451586.250 4...</td>\n",
       "      <td>2013</td>\n",
       "      <td>1</td>\n",
       "      <td>000200500VK56E</td>\n",
       "    </tr>\n",
       "  </tbody>\n",
       "</table>\n",
       "</div>"
      ],
      "text/plain": [
       "                      gml_id  numberOfFloorsAboveGround  heightBelowGround  \\\n",
       "0  ES.SDGC.BU.000200100VK48E                          1                  0   \n",
       "1  ES.SDGC.BU.000200500VK56E                          1                  0   \n",
       "\n",
       "   numberOfFloorsBelowGround  \\\n",
       "0                          0   \n",
       "1                          0   \n",
       "\n",
       "                                            geometry yearOfConstruction  \\\n",
       "0  POLYGON ((441657.574 4487050.292, 441658.164 4...               2004   \n",
       "1  POLYGON ((451584.920 4467181.410, 451586.250 4...               2013   \n",
       "\n",
       "   locadID_parts         locadID  \n",
       "0              1  000200100VK48E  \n",
       "1              1  000200500VK56E  "
      ]
     },
     "execution_count": 129,
     "metadata": {},
     "output_type": "execute_result"
    }
   ],
   "source": [
    "buildingParts_df.head(2)"
   ]
  },
  {
   "cell_type": "markdown",
   "metadata": {},
   "source": [
    "**________________________**\n",
    "\n",
    "**________________________**"
   ]
  },
  {
   "cell_type": "markdown",
   "metadata": {},
   "source": [
    "## 1.3 Other Construction Layer"
   ]
  },
  {
   "cell_type": "code",
   "execution_count": 27,
   "metadata": {},
   "outputs": [
    {
     "data": {
      "text/plain": [
       "(13822, 7)"
      ]
     },
     "execution_count": 27,
     "metadata": {},
     "output_type": "execute_result"
    }
   ],
   "source": [
    "otherConstruction_df.shape"
   ]
  },
  {
   "cell_type": "code",
   "execution_count": 28,
   "metadata": {},
   "outputs": [
    {
     "name": "stdout",
     "output_type": "stream",
     "text": [
      "<class 'geopandas.geodataframe.GeoDataFrame'>\n",
      "RangeIndex: 13822 entries, 0 to 13821\n",
      "Data columns (total 7 columns):\n",
      " #   Column                   Non-Null Count  Dtype   \n",
      "---  ------                   --------------  -----   \n",
      " 0   gml_id                   13822 non-null  object  \n",
      " 1   beginLifespanVersion     13822 non-null  object  \n",
      " 2   conditionOfConstruction  0 non-null      object  \n",
      " 3   localId                  13822 non-null  object  \n",
      " 4   namespace                13822 non-null  object  \n",
      " 5   constructionNature       13822 non-null  object  \n",
      " 6   geometry                 13822 non-null  geometry\n",
      "dtypes: geometry(1), object(6)\n",
      "memory usage: 756.0+ KB\n"
     ]
    }
   ],
   "source": [
    "otherConstruction_df.info()"
   ]
  },
  {
   "cell_type": "code",
   "execution_count": 29,
   "metadata": {},
   "outputs": [
    {
     "data": {
      "text/plain": [
       "gml_id                         0\n",
       "beginLifespanVersion           0\n",
       "conditionOfConstruction    13822\n",
       "localId                        0\n",
       "namespace                      0\n",
       "constructionNature             0\n",
       "geometry                       0\n",
       "dtype: int64"
      ]
     },
     "execution_count": 29,
     "metadata": {},
     "output_type": "execute_result"
    }
   ],
   "source": [
    "otherConstruction_df.isna().sum()"
   ]
  },
  {
   "cell_type": "code",
   "execution_count": 30,
   "metadata": {},
   "outputs": [
    {
     "data": {
      "text/plain": [
       "Series([], Name: conditionOfConstruction, dtype: int64)"
      ]
     },
     "execution_count": 30,
     "metadata": {},
     "output_type": "execute_result"
    }
   ],
   "source": [
    "otherConstruction_df['conditionOfConstruction'].value_counts()"
   ]
  },
  {
   "cell_type": "code",
   "execution_count": 31,
   "metadata": {},
   "outputs": [
    {
     "data": {
      "text/html": [
       "<div>\n",
       "<style scoped>\n",
       "    .dataframe tbody tr th:only-of-type {\n",
       "        vertical-align: middle;\n",
       "    }\n",
       "\n",
       "    .dataframe tbody tr th {\n",
       "        vertical-align: top;\n",
       "    }\n",
       "\n",
       "    .dataframe thead th {\n",
       "        text-align: right;\n",
       "    }\n",
       "</style>\n",
       "<table border=\"1\" class=\"dataframe\">\n",
       "  <thead>\n",
       "    <tr style=\"text-align: right;\">\n",
       "      <th></th>\n",
       "      <th>beginLifespanVersion</th>\n",
       "      <th>constructionNature</th>\n",
       "      <th>localId</th>\n",
       "    </tr>\n",
       "  </thead>\n",
       "  <tbody>\n",
       "    <tr>\n",
       "      <th>count</th>\n",
       "      <td>13822</td>\n",
       "      <td>13822</td>\n",
       "      <td>13822</td>\n",
       "    </tr>\n",
       "    <tr>\n",
       "      <th>unique</th>\n",
       "      <td>2191</td>\n",
       "      <td>1</td>\n",
       "      <td>13822</td>\n",
       "    </tr>\n",
       "    <tr>\n",
       "      <th>top</th>\n",
       "      <td>2003-01-02T00:00:00</td>\n",
       "      <td>openAirPool</td>\n",
       "      <td>6220906VK4862A_PI.8518</td>\n",
       "    </tr>\n",
       "    <tr>\n",
       "      <th>freq</th>\n",
       "      <td>899</td>\n",
       "      <td>13822</td>\n",
       "      <td>1</td>\n",
       "    </tr>\n",
       "  </tbody>\n",
       "</table>\n",
       "</div>"
      ],
      "text/plain": [
       "       beginLifespanVersion constructionNature                 localId\n",
       "count                 13822              13822                   13822\n",
       "unique                 2191                  1                   13822\n",
       "top     2003-01-02T00:00:00        openAirPool  6220906VK4862A_PI.8518\n",
       "freq                    899              13822                       1"
      ]
     },
     "execution_count": 31,
     "metadata": {},
     "output_type": "execute_result"
    }
   ],
   "source": [
    "otherConstruction_df[['beginLifespanVersion', 'constructionNature', 'localId']].describe()"
   ]
  },
  {
   "cell_type": "code",
   "execution_count": 32,
   "metadata": {},
   "outputs": [],
   "source": [
    "# All data corresponds to open AIR POOLS\n",
    "# I don't need this dataset to begin with\n",
    "# BUT lets cleaned it"
   ]
  },
  {
   "cell_type": "code",
   "execution_count": 33,
   "metadata": {},
   "outputs": [],
   "source": [
    "otherConstruction_Cols = ['conditionOfConstruction', 'constructionNature', 'namespace']\n",
    "otherConstruction_df.drop(otherConstruction_Cols, axis = 1, inplace = True)"
   ]
  },
  {
   "cell_type": "code",
   "execution_count": 34,
   "metadata": {},
   "outputs": [
    {
     "data": {
      "text/html": [
       "<div>\n",
       "<style scoped>\n",
       "    .dataframe tbody tr th:only-of-type {\n",
       "        vertical-align: middle;\n",
       "    }\n",
       "\n",
       "    .dataframe tbody tr th {\n",
       "        vertical-align: top;\n",
       "    }\n",
       "\n",
       "    .dataframe thead th {\n",
       "        text-align: right;\n",
       "    }\n",
       "</style>\n",
       "<table border=\"1\" class=\"dataframe\">\n",
       "  <thead>\n",
       "    <tr style=\"text-align: right;\">\n",
       "      <th></th>\n",
       "      <th>gml_id</th>\n",
       "      <th>beginLifespanVersion</th>\n",
       "      <th>localId</th>\n",
       "      <th>geometry</th>\n",
       "    </tr>\n",
       "  </thead>\n",
       "  <tbody>\n",
       "    <tr>\n",
       "      <th>0</th>\n",
       "      <td>ES.SDGC.BU.0006601VK3800E_PI.1</td>\n",
       "      <td>2017-07-07T00:00:00</td>\n",
       "      <td>0006601VK3800E_PI.1</td>\n",
       "      <td>POLYGON ((429964.360 4480456.150, 429961.960 4...</td>\n",
       "    </tr>\n",
       "    <tr>\n",
       "      <th>1</th>\n",
       "      <td>ES.SDGC.BU.0007201VK3800E_PI.2</td>\n",
       "      <td>2003-01-02T00:00:00</td>\n",
       "      <td>0007201VK3800E_PI.2</td>\n",
       "      <td>POLYGON ((429883.850 4480596.541, 429888.120 4...</td>\n",
       "    </tr>\n",
       "    <tr>\n",
       "      <th>2</th>\n",
       "      <td>ES.SDGC.BU.0007202VK3800E_PI.3</td>\n",
       "      <td>2006-06-19T00:00:00</td>\n",
       "      <td>0007202VK3800E_PI.3</td>\n",
       "      <td>POLYGON ((429967.989 4480563.520, 429968.469 4...</td>\n",
       "    </tr>\n",
       "  </tbody>\n",
       "</table>\n",
       "</div>"
      ],
      "text/plain": [
       "                           gml_id beginLifespanVersion              localId  \\\n",
       "0  ES.SDGC.BU.0006601VK3800E_PI.1  2017-07-07T00:00:00  0006601VK3800E_PI.1   \n",
       "1  ES.SDGC.BU.0007201VK3800E_PI.2  2003-01-02T00:00:00  0007201VK3800E_PI.2   \n",
       "2  ES.SDGC.BU.0007202VK3800E_PI.3  2006-06-19T00:00:00  0007202VK3800E_PI.3   \n",
       "\n",
       "                                            geometry  \n",
       "0  POLYGON ((429964.360 4480456.150, 429961.960 4...  \n",
       "1  POLYGON ((429883.850 4480596.541, 429888.120 4...  \n",
       "2  POLYGON ((429967.989 4480563.520, 429968.469 4...  "
      ]
     },
     "execution_count": 34,
     "metadata": {},
     "output_type": "execute_result"
    }
   ],
   "source": [
    "otherConstruction_df.head(3)"
   ]
  },
  {
   "cell_type": "code",
   "execution_count": 35,
   "metadata": {},
   "outputs": [],
   "source": [
    "# Using same functions as in Building Parts\n",
    "def get_PI(x):\n",
    "    return x.split('_')[1]\n",
    "\n",
    "# Separating localID\n",
    "\n",
    "otherConstruction_df['locadID_PI'] = otherConstruction_df['localId'].apply(get_PI) #not really useful\n",
    "otherConstruction_df['locadID'] = otherConstruction_df['localId'].apply(get_ID)\n",
    "\n",
    "otherConstruction_df.drop(['localId', 'locadID_PI'], axis = 1, inplace = True)"
   ]
  },
  {
   "cell_type": "code",
   "execution_count": 36,
   "metadata": {},
   "outputs": [],
   "source": [
    "# CLEANING DATE\n",
    "otherConstruction_df['yearOfConstruction'] = otherConstruction_df['beginLifespanVersion'].apply(get_yearofConstruction)\n",
    "otherConstruction_df.drop(['beginLifespanVersion'], axis = 1, inplace = True)"
   ]
  },
  {
   "cell_type": "code",
   "execution_count": 37,
   "metadata": {},
   "outputs": [],
   "source": [
    "# CLEANING gml_id\n",
    "otherConstruction_df['gml_id'] = otherConstruction_df['gml_id'].apply(get_ID)"
   ]
  },
  {
   "cell_type": "code",
   "execution_count": 38,
   "metadata": {
    "scrolled": true
   },
   "outputs": [
    {
     "data": {
      "text/html": [
       "<div>\n",
       "<style scoped>\n",
       "    .dataframe tbody tr th:only-of-type {\n",
       "        vertical-align: middle;\n",
       "    }\n",
       "\n",
       "    .dataframe tbody tr th {\n",
       "        vertical-align: top;\n",
       "    }\n",
       "\n",
       "    .dataframe thead th {\n",
       "        text-align: right;\n",
       "    }\n",
       "</style>\n",
       "<table border=\"1\" class=\"dataframe\">\n",
       "  <thead>\n",
       "    <tr style=\"text-align: right;\">\n",
       "      <th></th>\n",
       "      <th>gml_id</th>\n",
       "      <th>geometry</th>\n",
       "      <th>locadID</th>\n",
       "      <th>yearOfConstruction</th>\n",
       "    </tr>\n",
       "  </thead>\n",
       "  <tbody>\n",
       "    <tr>\n",
       "      <th>0</th>\n",
       "      <td>ES.SDGC.BU.0006601VK3800E</td>\n",
       "      <td>POLYGON ((429964.360 4480456.150, 429961.960 4...</td>\n",
       "      <td>0006601VK3800E</td>\n",
       "      <td>2017</td>\n",
       "    </tr>\n",
       "    <tr>\n",
       "      <th>1</th>\n",
       "      <td>ES.SDGC.BU.0007201VK3800E</td>\n",
       "      <td>POLYGON ((429883.850 4480596.541, 429888.120 4...</td>\n",
       "      <td>0007201VK3800E</td>\n",
       "      <td>2003</td>\n",
       "    </tr>\n",
       "    <tr>\n",
       "      <th>2</th>\n",
       "      <td>ES.SDGC.BU.0007202VK3800E</td>\n",
       "      <td>POLYGON ((429967.989 4480563.520, 429968.469 4...</td>\n",
       "      <td>0007202VK3800E</td>\n",
       "      <td>2006</td>\n",
       "    </tr>\n",
       "  </tbody>\n",
       "</table>\n",
       "</div>"
      ],
      "text/plain": [
       "                      gml_id  \\\n",
       "0  ES.SDGC.BU.0006601VK3800E   \n",
       "1  ES.SDGC.BU.0007201VK3800E   \n",
       "2  ES.SDGC.BU.0007202VK3800E   \n",
       "\n",
       "                                            geometry         locadID  \\\n",
       "0  POLYGON ((429964.360 4480456.150, 429961.960 4...  0006601VK3800E   \n",
       "1  POLYGON ((429883.850 4480596.541, 429888.120 4...  0007201VK3800E   \n",
       "2  POLYGON ((429967.989 4480563.520, 429968.469 4...  0007202VK3800E   \n",
       "\n",
       "  yearOfConstruction  \n",
       "0               2017  \n",
       "1               2003  \n",
       "2               2006  "
      ]
     },
     "execution_count": 38,
     "metadata": {},
     "output_type": "execute_result"
    }
   ],
   "source": [
    "otherConstruction_df.head(3)"
   ]
  },
  {
   "cell_type": "markdown",
   "metadata": {},
   "source": [
    "**________________________**\n",
    "\n",
    "**________________________**"
   ]
  },
  {
   "cell_type": "markdown",
   "metadata": {},
   "source": [
    "## 1.4 Cadastral Parcel Layer"
   ]
  },
  {
   "cell_type": "code",
   "execution_count": 67,
   "metadata": {},
   "outputs": [
    {
     "name": "stdout",
     "output_type": "stream",
     "text": [
      "<class 'geopandas.geodataframe.GeoDataFrame'>\n",
      "RangeIndex: 25000 entries, 0 to 24999\n",
      "Data columns (total 7 columns):\n",
      " #   Column              Non-Null Count  Dtype   \n",
      "---  ------              --------------  -----   \n",
      " 0   gml_id              25000 non-null  object  \n",
      " 1   areaValue           25000 non-null  int64   \n",
      " 2   localId             25000 non-null  object  \n",
      " 3   label               25000 non-null  object  \n",
      " 4   pos                 25000 non-null  object  \n",
      " 5   geometry            25000 non-null  geometry\n",
      " 6   yearOfConstruction  25000 non-null  object  \n",
      "dtypes: geometry(1), int64(1), object(5)\n",
      "memory usage: 1.3+ MB\n"
     ]
    },
    {
     "data": {
      "text/plain": [
       "None"
      ]
     },
     "metadata": {},
     "output_type": "display_data"
    },
    {
     "data": {
      "text/plain": [
       "(25000, 7)"
      ]
     },
     "metadata": {},
     "output_type": "display_data"
    }
   ],
   "source": [
    "display(cadastralParcel.info())\n",
    "display(cadastralParcel.shape)"
   ]
  },
  {
   "cell_type": "code",
   "execution_count": 44,
   "metadata": {},
   "outputs": [
    {
     "data": {
      "text/plain": [
       "Series([], Name: endLifespanVersion, dtype: int64)"
      ]
     },
     "execution_count": 44,
     "metadata": {},
     "output_type": "execute_result"
    }
   ],
   "source": [
    "# IS END LIFE SPAN VERSION EMPTY?\n",
    "cadastralParcel['endLifespanVersion'].value_counts() # Empty\n",
    "# DROP USELESS COLUMNS\n",
    "cadastralParcel_dropCols = ['endLifespanVersion', 'areaValue_uom', 'namespace']\n",
    "cadastralParcel.drop(cadastralParcel_measureCols, axis = 1, inplace = True)"
   ]
  },
  {
   "cell_type": "code",
   "execution_count": 47,
   "metadata": {},
   "outputs": [],
   "source": [
    "# CLEANING YEAR (same as 1.3 - 1.2 - 1.1)\n",
    "# using get_yearofConstruction\n",
    "cadastralParcel['yearOfConstruction'] = cadastralParcel['beginLifespanVersion'].apply(get_yearofConstruction)\n",
    "cadastralParcel.drop(['beginLifespanVersion'], axis = 1, inplace = True)"
   ]
  },
  {
   "cell_type": "code",
   "execution_count": 87,
   "metadata": {},
   "outputs": [],
   "source": [
    "def drop_allTrue(df, col1, col2):\n",
    "    if False not in df.apply(lambda x : x[col1] == x[col2], axis = 1).value_counts().index.tolist():\n",
    "        print(f\"-- All True --\\n-- Droping {col2} --\")\n",
    "        df.drop([col2], axis = 1, inplace = True)\n",
    "    else:\n",
    "        print(f\"-- Pass \\nThere are inequalities between columns --\")"
   ]
  },
  {
   "cell_type": "code",
   "execution_count": 48,
   "metadata": {},
   "outputs": [
    {
     "data": {
      "text/plain": [
       "True    25000\n",
       "Name: Equality, dtype: int64"
      ]
     },
     "execution_count": 48,
     "metadata": {},
     "output_type": "execute_result"
    }
   ],
   "source": [
    "# IS LOCAL_ID THE SAME AS NATIONAL CADASTRAL REFERENCE ??\n",
    "# If true --> drop column\n",
    "drop_allTrue(cadastralParcel, 'localId', 'nationalCadastralReference')\n",
    "# DROP NATIONAL CADASTRAL REFERENCE"
   ]
  },
  {
   "cell_type": "code",
   "execution_count": 50,
   "metadata": {
    "scrolled": true
   },
   "outputs": [
    {
     "data": {
      "text/html": [
       "<div>\n",
       "<style scoped>\n",
       "    .dataframe tbody tr th:only-of-type {\n",
       "        vertical-align: middle;\n",
       "    }\n",
       "\n",
       "    .dataframe tbody tr th {\n",
       "        vertical-align: top;\n",
       "    }\n",
       "\n",
       "    .dataframe thead th {\n",
       "        text-align: right;\n",
       "    }\n",
       "</style>\n",
       "<table border=\"1\" class=\"dataframe\">\n",
       "  <thead>\n",
       "    <tr style=\"text-align: right;\">\n",
       "      <th></th>\n",
       "      <th>gml_id</th>\n",
       "      <th>areaValue</th>\n",
       "      <th>localId</th>\n",
       "      <th>label</th>\n",
       "      <th>pos</th>\n",
       "      <th>geometry</th>\n",
       "      <th>yearOfConstruction</th>\n",
       "    </tr>\n",
       "  </thead>\n",
       "  <tbody>\n",
       "    <tr>\n",
       "      <th>0</th>\n",
       "      <td>ES.SDGC.CP.000200500VK56E</td>\n",
       "      <td>1268</td>\n",
       "      <td>000200500VK56E</td>\n",
       "      <td>005</td>\n",
       "      <td>451607.03 4467199.27</td>\n",
       "      <td>MULTIPOLYGON (((451599.360 4467174.940, 451584...</td>\n",
       "      <td>2013</td>\n",
       "    </tr>\n",
       "    <tr>\n",
       "      <th>1</th>\n",
       "      <td>ES.SDGC.CP.000205600VK56E</td>\n",
       "      <td>297</td>\n",
       "      <td>000205600VK56E</td>\n",
       "      <td>056</td>\n",
       "      <td>451592.44 4467170.83</td>\n",
       "      <td>MULTIPOLYGON (((451593.000 4467163.250, 451579...</td>\n",
       "      <td>2013</td>\n",
       "    </tr>\n",
       "    <tr>\n",
       "      <th>2</th>\n",
       "      <td>ES.SDGC.CP.000205700VK56E</td>\n",
       "      <td>155</td>\n",
       "      <td>000205700VK56E</td>\n",
       "      <td>057</td>\n",
       "      <td>451587.93 4467161.77</td>\n",
       "      <td>MULTIPOLYGON (((451590.040 4467156.910, 451576...</td>\n",
       "      <td>2013</td>\n",
       "    </tr>\n",
       "    <tr>\n",
       "      <th>3</th>\n",
       "      <td>ES.SDGC.CP.000205800VK56E</td>\n",
       "      <td>174</td>\n",
       "      <td>000205800VK56E</td>\n",
       "      <td>058</td>\n",
       "      <td>451584.62 4467155.04</td>\n",
       "      <td>MULTIPOLYGON (((451586.650 4467149.650, 451573...</td>\n",
       "      <td>2013</td>\n",
       "    </tr>\n",
       "  </tbody>\n",
       "</table>\n",
       "</div>"
      ],
      "text/plain": [
       "                      gml_id  areaValue         localId label  \\\n",
       "0  ES.SDGC.CP.000200500VK56E       1268  000200500VK56E   005   \n",
       "1  ES.SDGC.CP.000205600VK56E        297  000205600VK56E   056   \n",
       "2  ES.SDGC.CP.000205700VK56E        155  000205700VK56E   057   \n",
       "3  ES.SDGC.CP.000205800VK56E        174  000205800VK56E   058   \n",
       "\n",
       "                    pos                                           geometry  \\\n",
       "0  451607.03 4467199.27  MULTIPOLYGON (((451599.360 4467174.940, 451584...   \n",
       "1  451592.44 4467170.83  MULTIPOLYGON (((451593.000 4467163.250, 451579...   \n",
       "2  451587.93 4467161.77  MULTIPOLYGON (((451590.040 4467156.910, 451576...   \n",
       "3  451584.62 4467155.04  MULTIPOLYGON (((451586.650 4467149.650, 451573...   \n",
       "\n",
       "  yearOfConstruction  \n",
       "0               2013  \n",
       "1               2013  \n",
       "2               2013  \n",
       "3               2013  "
      ]
     },
     "execution_count": 50,
     "metadata": {},
     "output_type": "execute_result"
    }
   ],
   "source": [
    "cadastralParcel.head(4)"
   ]
  },
  {
   "cell_type": "markdown",
   "metadata": {},
   "source": [
    "**________________________**\n",
    "\n",
    "**________________________**"
   ]
  },
  {
   "cell_type": "markdown",
   "metadata": {},
   "source": [
    "## 1.5 Cadastral Zoning Layer"
   ]
  },
  {
   "cell_type": "code",
   "execution_count": 131,
   "metadata": {},
   "outputs": [
    {
     "name": "stdout",
     "output_type": "stream",
     "text": [
      "<class 'geopandas.geodataframe.GeoDataFrame'>\n",
      "RangeIndex: 12202 entries, 0 to 12201\n",
      "Data columns (total 7 columns):\n",
      " #   Column                    Non-Null Count  Dtype   \n",
      "---  ------                    --------------  -----   \n",
      " 0   gml_id                    12202 non-null  object  \n",
      " 1   localId                   12202 non-null  object  \n",
      " 2   label                     12202 non-null  object  \n",
      " 3   LocalisedCharacterString  12202 non-null  object  \n",
      " 4   pos                       12202 non-null  object  \n",
      " 5   geometry                  12202 non-null  geometry\n",
      " 6   yearOfConstruction        12202 non-null  object  \n",
      "dtypes: geometry(1), object(6)\n",
      "memory usage: 667.4+ KB\n"
     ]
    },
    {
     "data": {
      "text/plain": [
       "None"
      ]
     },
     "metadata": {},
     "output_type": "display_data"
    },
    {
     "data": {
      "text/plain": [
       "(12202, 7)"
      ]
     },
     "metadata": {},
     "output_type": "display_data"
    }
   ],
   "source": [
    "display(cadastralZoning.info())\n",
    "display(cadastralZoning.shape)"
   ]
  },
  {
   "cell_type": "code",
   "execution_count": 134,
   "metadata": {},
   "outputs": [
    {
     "name": "stdout",
     "output_type": "stream",
     "text": [
      "-- Checking for NULLs in CAD_ZONING --\n",
      "-- Finished task --\n"
     ]
    }
   ],
   "source": [
    "checking_forEmpties(cadastralZoning)"
   ]
  },
  {
   "cell_type": "code",
   "execution_count": 55,
   "metadata": {},
   "outputs": [
    {
     "data": {
      "text/plain": [
       "0.5    12111\n",
       "1.0       91\n",
       "Name: estimatedAccuracy, dtype: int64"
      ]
     },
     "metadata": {},
     "output_type": "display_data"
    },
    {
     "data": {
      "text/plain": [
       "m    12202\n",
       "Name: estimatedAccuracy_uom, dtype: int64"
      ]
     },
     "metadata": {},
     "output_type": "display_data"
    },
    {
     "data": {
      "text/plain": [
       "500     12111\n",
       "5000       91\n",
       "Name: originalMapScaleDenominator, dtype: int64"
      ]
     },
     "metadata": {},
     "output_type": "display_data"
    },
    {
     "data": {
      "text/plain": [
       "MANZANA      12111\n",
       "POLIGONO        91\n",
       "Name: LocalisedCharacterString, dtype: int64"
      ]
     },
     "metadata": {},
     "output_type": "display_data"
    }
   ],
   "source": [
    "display(cadastralZoning['estimatedAccuracy'].value_counts())\n",
    "display(cadastralZoning['estimatedAccuracy_uom'].value_counts())\n",
    "display(cadastralZoning['originalMapScaleDenominator'].value_counts())\n",
    "display(cadastralZoning['LocalisedCharacterString'].value_counts()) # son iguales ??"
   ]
  },
  {
   "cell_type": "code",
   "execution_count": 56,
   "metadata": {},
   "outputs": [],
   "source": [
    "cadastralZoning_uselessCols = ['estimatedAccuracy_uom', 'originalMapScaleDenominator', 'estimatedAccuracy', \n",
    "                              'namespace', 'endLifespanVersion']\n",
    "cadastralZoning.drop(cadastralZoning_uselessCols, axis = 1, inplace = True)"
   ]
  },
  {
   "cell_type": "code",
   "execution_count": 57,
   "metadata": {},
   "outputs": [],
   "source": [
    "# is localID == nationalCadastalZoningReference\n",
    "cadastralZoning.apply(lambda x : x['localId'] == x['nationalCadastalZoningReference'], axis = 1).value_counts() # All true\n",
    "cadastralZoning.drop(['nationalCadastalZoningReference'], axis = 1, inplace = True)"
   ]
  },
  {
   "cell_type": "code",
   "execution_count": 58,
   "metadata": {},
   "outputs": [],
   "source": [
    "# CHANGE YEAR (same as rest)\n",
    "cadastralZoning['yearOfConstruction'] = cadastralZoning['beginLifespanVersion'].apply(get_yearofConstruction)\n",
    "cadastralZoning.drop(['beginLifespanVersion'], axis = 1, inplace = True)"
   ]
  },
  {
   "cell_type": "code",
   "execution_count": 59,
   "metadata": {},
   "outputs": [
    {
     "data": {
      "text/html": [
       "<div>\n",
       "<style scoped>\n",
       "    .dataframe tbody tr th:only-of-type {\n",
       "        vertical-align: middle;\n",
       "    }\n",
       "\n",
       "    .dataframe tbody tr th {\n",
       "        vertical-align: top;\n",
       "    }\n",
       "\n",
       "    .dataframe thead th {\n",
       "        text-align: right;\n",
       "    }\n",
       "</style>\n",
       "<table border=\"1\" class=\"dataframe\">\n",
       "  <thead>\n",
       "    <tr style=\"text-align: right;\">\n",
       "      <th></th>\n",
       "      <th>gml_id</th>\n",
       "      <th>localId</th>\n",
       "      <th>label</th>\n",
       "      <th>LocalisedCharacterString</th>\n",
       "      <th>pos</th>\n",
       "      <th>geometry</th>\n",
       "      <th>yearOfConstruction</th>\n",
       "    </tr>\n",
       "  </thead>\n",
       "  <tbody>\n",
       "    <tr>\n",
       "      <th>0</th>\n",
       "      <td>ES.SDGC.CP.Z.28900A000</td>\n",
       "      <td>28900A000</td>\n",
       "      <td>000</td>\n",
       "      <td>POLIGONO</td>\n",
       "      <td>440302.42 4492704.6</td>\n",
       "      <td>MULTIPOLYGON (((440301.968 4492704.637, 440302...</td>\n",
       "      <td>2019</td>\n",
       "    </tr>\n",
       "    <tr>\n",
       "      <th>1</th>\n",
       "      <td>ES.SDGC.CP.Z.28900A001</td>\n",
       "      <td>28900A001</td>\n",
       "      <td>001</td>\n",
       "      <td>POLIGONO</td>\n",
       "      <td>444909.27 4497953.5</td>\n",
       "      <td>MULTIPOLYGON (((444555.092 4499363.444, 444568...</td>\n",
       "      <td>2019</td>\n",
       "    </tr>\n",
       "    <tr>\n",
       "      <th>2</th>\n",
       "      <td>ES.SDGC.CP.Z.28900A002</td>\n",
       "      <td>28900A002</td>\n",
       "      <td>002</td>\n",
       "      <td>POLIGONO</td>\n",
       "      <td>446474.92 4496527.94</td>\n",
       "      <td>MULTIPOLYGON (((445948.540 4496495.370, 445945...</td>\n",
       "      <td>2013</td>\n",
       "    </tr>\n",
       "    <tr>\n",
       "      <th>3</th>\n",
       "      <td>ES.SDGC.CP.Z.28900A003</td>\n",
       "      <td>28900A003</td>\n",
       "      <td>003</td>\n",
       "      <td>POLIGONO</td>\n",
       "      <td>447749.11 4494280.98</td>\n",
       "      <td>MULTIPOLYGON (((449091.096 4493635.359, 449089...</td>\n",
       "      <td>2014</td>\n",
       "    </tr>\n",
       "  </tbody>\n",
       "</table>\n",
       "</div>"
      ],
      "text/plain": [
       "                   gml_id    localId label LocalisedCharacterString  \\\n",
       "0  ES.SDGC.CP.Z.28900A000  28900A000   000                POLIGONO    \n",
       "1  ES.SDGC.CP.Z.28900A001  28900A001   001                POLIGONO    \n",
       "2  ES.SDGC.CP.Z.28900A002  28900A002   002                POLIGONO    \n",
       "3  ES.SDGC.CP.Z.28900A003  28900A003   003                POLIGONO    \n",
       "\n",
       "                    pos                                           geometry  \\\n",
       "0   440302.42 4492704.6  MULTIPOLYGON (((440301.968 4492704.637, 440302...   \n",
       "1   444909.27 4497953.5  MULTIPOLYGON (((444555.092 4499363.444, 444568...   \n",
       "2  446474.92 4496527.94  MULTIPOLYGON (((445948.540 4496495.370, 445945...   \n",
       "3  447749.11 4494280.98  MULTIPOLYGON (((449091.096 4493635.359, 449089...   \n",
       "\n",
       "  yearOfConstruction  \n",
       "0               2019  \n",
       "1               2019  \n",
       "2               2013  \n",
       "3               2014  "
      ]
     },
     "execution_count": 59,
     "metadata": {},
     "output_type": "execute_result"
    }
   ],
   "source": [
    "cadastralZoning.head(4)"
   ]
  },
  {
   "cell_type": "markdown",
   "metadata": {},
   "source": [
    "**_______________**\n",
    "\n",
    "**_______________**"
   ]
  },
  {
   "cell_type": "markdown",
   "metadata": {},
   "source": [
    "### CHECKING MEMORY USAGE"
   ]
  },
  {
   "cell_type": "code",
   "execution_count": 60,
   "metadata": {},
   "outputs": [
    {
     "name": "stdout",
     "output_type": "stream",
     "text": [
      "Building Layer total memory usage: \t\t\t1800.128 \tKbytes\n",
      "Building Parts Layer total memory usage: \t\t1600.128 \tKbytes\n",
      "Other Construction Layer total memory usage: \t\t442.432 \tKbytes\n",
      "Cadastral Parcel Layer total memory usage: \t\t1400.128 \tKbytes\n",
      "Cadastral Zoning Layer total memory usage: \t\t683.44 \t\tKbytes\n"
     ]
    }
   ],
   "source": [
    "print(f\"Building Layer total memory usage: \\t\\t\\t{building_df.memory_usage(index=True).sum()/1000} \\tKbytes\")\n",
    "print(f\"Building Parts Layer total memory usage: \\t\\t{buildingParts_df.memory_usage(index=True).sum()/1000} \\tKbytes\")\n",
    "print(f\"Other Construction Layer total memory usage: \\t\\t{otherConstruction_df.memory_usage(index=True).sum()/1000} \\tKbytes\")\n",
    "\n",
    "print(f\"Cadastral Parcel Layer total memory usage: \\t\\t{cadastralParcel.memory_usage(index=True).sum()/1000} \\tKbytes\")\n",
    "print(f\"Cadastral Zoning Layer total memory usage: \\t\\t{cadastralZoning.memory_usage(index=True).sum()/1000} \\t\\tKbytes\")"
   ]
  },
  {
   "cell_type": "markdown",
   "metadata": {},
   "source": [
    "--- INITIALLY---\n",
    "\n",
    "    Building Layer total memory usage: \t\t\t4825.128 \tKbytes\n",
    "Building Parts Layer total memory usage: \t\t2625.128 \tKbytes\n",
    "Other Construction Layer total memory usage: \t774.16 \t\tKbytes\n",
    "Cadastral Parcel Layer total memory usage: \t\t2200.128 \tKbytes\n",
    "Cadastral Zoning Layer total memory usage: \t\t1269.136 \tKbytes"
   ]
  },
  {
   "cell_type": "code",
   "execution_count": 61,
   "metadata": {},
   "outputs": [
    {
     "name": "stdout",
     "output_type": "stream",
     "text": [
      "Building Layer memory optimization: \t\t\t37.31 \t%\n",
      "Building Parts Layer memory optimization: \t\t60.95 \t%\n",
      "Other Construction Layer memory optimization: \t\t57.15 \t%\n",
      "Cadastral Parcel Layer memory optimization: \t\t63.64 \t%\n",
      "Cadastral Zoning Layer memory optimization: \t\t53.85 \t%\n"
     ]
    }
   ],
   "source": [
    "## CHANGE\n",
    "\n",
    "print(f\"Building Layer memory optimization: \\t\\t\\t{np.round(building_df.memory_usage(index=True).sum()/(10*4825.128), 2)} \\t%\")\n",
    "print(f\"Building Parts Layer memory optimization: \\t\\t{np.round(buildingParts_df.memory_usage(index=True).sum()/(10*2625.128), 2)} \\t%\")\n",
    "print(f\"Other Construction Layer memory optimization: \\t\\t{np.round(otherConstruction_df.memory_usage(index=True).sum()/(10*774.16), 2)} \\t%\")\n",
    "\n",
    "print(f\"Cadastral Parcel Layer memory optimization: \\t\\t{np.round(cadastralParcel.memory_usage(index=True).sum()/(10*2200.128), 2)} \\t%\")\n",
    "print(f\"Cadastral Zoning Layer memory optimization: \\t\\t{np.round(cadastralZoning.memory_usage(index=True).sum()/(10*1269.136), 2)} \\t%\")"
   ]
  },
  {
   "cell_type": "markdown",
   "metadata": {},
   "source": [
    "**_______________**\n",
    "\n",
    "**_______________**"
   ]
  },
  {
   "cell_type": "markdown",
   "metadata": {},
   "source": [
    "### CHECKINF WHICH COL IS BETTER TO CONNECT TABLES IN DDBB"
   ]
  },
  {
   "cell_type": "code",
   "execution_count": 66,
   "metadata": {},
   "outputs": [
    {
     "data": {
      "text/plain": [
       "array(['ES.SDGC.BU.  VK4700H', 'ES.SDGC.BU.00006Z8VK4800A',\n",
       "       'ES.SDGC.BU.000200100VK48E', ..., 'ES.SDGC.BU.1459806VK4715G',\n",
       "       'ES.SDGC.BU.1459807VK4715G', 'ES.SDGC.BU.1459808VK4715G'],\n",
       "      dtype=object)"
      ]
     },
     "metadata": {},
     "output_type": "display_data"
    },
    {
     "data": {
      "text/plain": [
       "25000"
      ]
     },
     "metadata": {},
     "output_type": "display_data"
    },
    {
     "data": {
      "text/plain": [
       "array(['ES.SDGC.BU.000200100VK48E_part1',\n",
       "       'ES.SDGC.BU.000200500VK56E_part1',\n",
       "       'ES.SDGC.BU.000200500VK56E_part2', ...,\n",
       "       'ES.SDGC.BU.0201605VK4800A_part1',\n",
       "       'ES.SDGC.BU.0201609VK4800A_part1',\n",
       "       'ES.SDGC.BU.0201609VK4800A_part2'], dtype=object)"
      ]
     },
     "metadata": {},
     "output_type": "display_data"
    },
    {
     "data": {
      "text/plain": [
       "25000"
      ]
     },
     "metadata": {},
     "output_type": "display_data"
    },
    {
     "data": {
      "text/plain": [
       "array(['ES.SDGC.BU.0006601VK3800E', 'ES.SDGC.BU.0007201VK3800E',\n",
       "       'ES.SDGC.BU.0007202VK3800E', ..., 'ES.SDGC.BU.9997706VK3899F',\n",
       "       'ES.SDGC.BU.9999420VK4799H', 'ES.SDGC.BU.9999711VK4799H'],\n",
       "      dtype=object)"
      ]
     },
     "metadata": {},
     "output_type": "display_data"
    },
    {
     "data": {
      "text/plain": [
       "13822"
      ]
     },
     "metadata": {},
     "output_type": "display_data"
    },
    {
     "data": {
      "text/plain": [
       "array(['ES.SDGC.CP.000200500VK56E', 'ES.SDGC.CP.000205600VK56E',\n",
       "       'ES.SDGC.CP.000205700VK56E', ..., 'ES.SDGC.CP.1000705VK4810A',\n",
       "       'ES.SDGC.CP.1000706VK4810A', 'ES.SDGC.CP.1000707VK4810A'],\n",
       "      dtype=object)"
      ]
     },
     "metadata": {},
     "output_type": "display_data"
    },
    {
     "data": {
      "text/plain": [
       "25000"
      ]
     },
     "metadata": {},
     "output_type": "display_data"
    },
    {
     "data": {
      "text/plain": [
       "array(['ES.SDGC.CP.Z.28900A000', 'ES.SDGC.CP.Z.28900A001',\n",
       "       'ES.SDGC.CP.Z.28900A002', ..., 'ES.SDGC.CP.Z.99994VK4799H',\n",
       "       'ES.SDGC.CP.Z.99997VK4799H', 'ES.SDGC.CP.Z.RA6100000000'],\n",
       "      dtype=object)"
      ]
     },
     "metadata": {},
     "output_type": "display_data"
    },
    {
     "data": {
      "text/plain": [
       "12202"
      ]
     },
     "metadata": {},
     "output_type": "display_data"
    }
   ],
   "source": [
    "BU_id = np.array(building_df['gml_id']); display(BU_id); display(len(BU_id))\n",
    "BP_id = np.array(buildingParts_df['gml_id']); display(BP_id); display(len(BP_id))\n",
    "BO_id = np.array(otherConstruction_df['gml_id']); display(BO_id); display(len(BO_id))\n",
    "CP_id = np.array(cadastralParcel['gml_id']); display(CP_id); display(len(CP_id))\n",
    "CZ_id = np.array(cadastralZoning['gml_id']); display(CZ_id); display(len(CZ_id))"
   ]
  },
  {
   "cell_type": "code",
   "execution_count": null,
   "metadata": {},
   "outputs": [],
   "source": []
  }
 ],
 "metadata": {
  "kernelspec": {
   "display_name": "geoesp_env",
   "language": "python",
   "name": "geoesp_env"
  },
  "language_info": {
   "codemirror_mode": {
    "name": "ipython",
    "version": 3
   },
   "file_extension": ".py",
   "mimetype": "text/x-python",
   "name": "python",
   "nbconvert_exporter": "python",
   "pygments_lexer": "ipython3",
   "version": "3.7.9"
  }
 },
 "nbformat": 4,
 "nbformat_minor": 4
}
