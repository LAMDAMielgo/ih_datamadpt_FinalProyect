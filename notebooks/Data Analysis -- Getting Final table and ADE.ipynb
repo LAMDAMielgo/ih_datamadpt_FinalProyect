{
 "cells": [
  {
   "cell_type": "markdown",
   "metadata": {},
   "source": [
    "# MERGING GEOJSON"
   ]
  },
  {
   "cell_type": "code",
   "execution_count": null,
   "metadata": {},
   "outputs": [],
   "source": [
    "from os import listdir\n",
    "from os.path import isfile, join\n",
    "\n",
    "import re\n",
    "from itertools import combinations\n",
    "from itertools import chain\n",
    "\n",
    "import pandas as pd\n",
    "import numpy as np\n",
    "\n",
    "import geopandas as gpd\n",
    "import geojson\n",
    "import rtree\n",
    "\n",
    "import folium.folium\n",
    "\n",
    "import seaborn as sns\n",
    "import matplotlib.pyplot as plt\n",
    "\n",
    "import folium\n",
    "from folium import plugins\n",
    "\n",
    "%matplotlib inline\n",
    "\n",
    "pd.set_option('display.max_rows', 1000)"
   ]
  },
  {
   "cell_type": "code",
   "execution_count": null,
   "metadata": {},
   "outputs": [],
   "source": [
    "CLEAN_PATH = '../data/clean' # transform this into temp file\n",
    "\n",
    "NAMES_DICT = {\n",
    "    \n",
    "    'cad_pa_gdf': 'CAD_PA',\n",
    "    'o_build_gdf': 'O_CONS',\n",
    "    'p_build_gdf': 'P_BU',\n",
    "    'build_gdf': 'BU',\n",
    "    'cad_zo_gdf': 'CAD_ZO',\n",
    "    'mad_gdf': 'MAD'\n",
    "}"
   ]
  },
  {
   "cell_type": "code",
   "execution_count": null,
   "metadata": {},
   "outputs": [],
   "source": [
    "all_raw_geofiles = [f for f in listdir(CLEAN_PATH) if isfile(join(CLEAN_PATH, f))]\n",
    "all_raw_geofiles"
   ]
  },
  {
   "cell_type": "code",
   "execution_count": null,
   "metadata": {
    "scrolled": true
   },
   "outputs": [],
   "source": [
    "def merge_to_main_gdf(main_gdf, merged_gdf):\n",
    "    \"\"\"\n",
    "    input:\n",
    "    output: \n",
    "    \"\"\"\n",
    "    \"\"\"\n",
    "    merged_gdf.rename(columns = {\n",
    "                            'geometry': f'geometry_{merged_gdf.name}',\n",
    "                            'pos': f'pos_{merged_gdf.name}'\n",
    "                            }, inplace = True, errors = False) \"\"\"\n",
    "    \n",
    "    cols_to_keep_out = ['yearOfConstruction', 'label', 'geometry']     # this labels dont give any info\n",
    "    cols_to_select = [col for col in merged_gdf.columns.tolist() if col not in cols_to_keep_out]\n",
    "    \n",
    "    if len(merged_gdf['ID'].unique()) == len(merged_gdf['ID'].array):\n",
    "        return main_gdf.merge(merged_gdf[cols_to_select], on ='ID')\n",
    "\n",
    "    else:\n",
    "        aux_gdf = merged_gdf[cols_to_select].groupby(['ID']).max() # max as agg\n",
    "        aux_gdf.reset_index(inplace = True)\n",
    "\n",
    "        return main_gdf.merge(aux_gdf[cols_to_select], on = 'ID') # main_gdf.merge(aux_gdf, on ='ID')    "
   ]
  },
  {
   "cell_type": "markdown",
   "metadata": {},
   "source": [
    "### LOADING BUILDING DATASET"
   ]
  },
  {
   "cell_type": "code",
   "execution_count": null,
   "metadata": {},
   "outputs": [],
   "source": [
    "build_gdf = gpd.read_file(f\"{CLEAN_PATH}/building.geojson\")\n",
    "build_gdf.name = NAMES_DICT['build_gdf']"
   ]
  },
  {
   "cell_type": "markdown",
   "metadata": {},
   "source": [
    "### LOADING BUILDING PART DATASET"
   ]
  },
  {
   "cell_type": "code",
   "execution_count": null,
   "metadata": {
    "scrolled": true
   },
   "outputs": [],
   "source": [
    "# LOADING\n",
    "p_build_gdf = gpd.read_file(f\"{CLEAN_PATH}/buildingpart.geojson\")\n",
    "p_build_gdf.name = NAMES_DICT['p_build_gdf']"
   ]
  },
  {
   "cell_type": "markdown",
   "metadata": {},
   "source": [
    "### LOADING CADASTRAL PARCEL DATASET"
   ]
  },
  {
   "cell_type": "code",
   "execution_count": null,
   "metadata": {},
   "outputs": [],
   "source": [
    "# LOADING\n",
    "cad_pa_gdf = gpd.read_file(f\"{CLEAN_PATH}/cadastralparcel.geojson\")\n",
    "cad_pa_gdf.name = NAMES_DICT['cad_pa_gdf']"
   ]
  },
  {
   "cell_type": "markdown",
   "metadata": {},
   "source": [
    "### LOADING 28900 (MADRID) DATASET"
   ]
  },
  {
   "cell_type": "code",
   "execution_count": null,
   "metadata": {},
   "outputs": [],
   "source": [
    "# LOADING\n",
    "mad_gdf = gpd.read_file(f\"{CLEAN_PATH}/28900.geojson\")\n",
    "mad_gdf.name = NAMES_DICT['mad_gdf']"
   ]
  },
  {
   "cell_type": "code",
   "execution_count": null,
   "metadata": {},
   "outputs": [],
   "source": [
    "def changes_to_28900(gdf):\n",
    "    return gdf.drop(['designator', 'yearOfConstruction'], axis = 1, inplace = True)\n",
    "\n",
    "changes_to_28900(mad_gdf)\n",
    "\n",
    "# Es un Dataset que muestra los portales de Madrid\n",
    "# El ID es diferente al resto de DS\n",
    "# Quizá habría que hacer un sjoin()"
   ]
  },
  {
   "cell_type": "code",
   "execution_count": null,
   "metadata": {},
   "outputs": [],
   "source": [
    "col_to_draw = 'specification' # col value corresponds grossfloorarea\n",
    "\n",
    "mad_gdf[['geometry', col_to_draw]].plot(figsize = (25,35), column = col_to_draw, legend = True)\n",
    "plt.show()"
   ]
  },
  {
   "cell_type": "markdown",
   "metadata": {},
   "source": [
    "### LOADING CADASTRAL ZONING DATASET"
   ]
  },
  {
   "cell_type": "code",
   "execution_count": null,
   "metadata": {},
   "outputs": [],
   "source": []
  },
  {
   "cell_type": "code",
   "execution_count": null,
   "metadata": {},
   "outputs": [],
   "source": []
  },
  {
   "cell_type": "markdown",
   "metadata": {},
   "source": [
    "### LOADING OTHER BUILDING DATASET"
   ]
  },
  {
   "cell_type": "code",
   "execution_count": null,
   "metadata": {},
   "outputs": [],
   "source": []
  },
  {
   "cell_type": "markdown",
   "metadata": {
    "scrolled": true
   },
   "source": [
    "##  FINAL RESULT"
   ]
  },
  {
   "cell_type": "code",
   "execution_count": null,
   "metadata": {},
   "outputs": [],
   "source": [
    "# merging part_building to building-geojson\n",
    "build_gdf = merge_to_main_gdf(main_gdf = build_gdf, \n",
    "                              merged_gdf = p_build_gdf)"
   ]
  },
  {
   "cell_type": "code",
   "execution_count": null,
   "metadata": {},
   "outputs": [],
   "source": [
    "# merging to building-geojson\n",
    "final_gdf = merge_to_main_gdf(main_gdf = build_gdf, \n",
    "                              merged_gdf = cad_pa_gdf)"
   ]
  },
  {
   "cell_type": "code",
   "execution_count": null,
   "metadata": {},
   "outputs": [],
   "source": [
    "def split_xtr(x):\n",
    "    if x:\n",
    "        return x.split('_')[1]\n",
    "\n",
    "def height_to_floors(gdf):\n",
    "    for col in gdf.columns:\n",
    "        if len(re.findall(r'height\\w+', col)) != 0:\n",
    "            sec_part_name = re.split(r'height', col)[1]\n",
    "\n",
    "            gdf[col] == gdf.apply(lambda x: x[col] / 3, axis = 1)\n",
    "            gdf.rename(columns = {col: f'nFloors{sec_part_name}'}, inplace = True)\n",
    "        \n",
    "        elif len(re.findall(r'numberOf\\w+', col)) != 0:\n",
    "            sec_part_name = re.split(r'numberOf', col)[1]\n",
    "            gdf.rename(columns = {col: f'n_{sec_part_name}'}, inplace = True)\n",
    "            \n",
    "        else: pass\n",
    "    \n",
    "final_gdf['currentUse'] = final_gdf['currentUse'].apply(split_xtr)\n",
    "height_to_floors(final_gdf)"
   ]
  },
  {
   "cell_type": "code",
   "execution_count": null,
   "metadata": {
    "scrolled": false
   },
   "outputs": [],
   "source": [
    "cols_to_select = [col for col in final_gdf.columns.tolist() if col not in list(re.findall(r\"geometry\", col))]\n",
    "cols_to_select += ['geometry']\n",
    "\n",
    "final_gdf = gpd.GeoDataFrame( final_gdf[cols_to_select], \n",
    "                              geometry = final_gdf['geometry'] )\n",
    "\n",
    "display(final_gdf.head(2))\n",
    "display(type(final_gdf))\n",
    "display(final_gdf.shape)"
   ]
  },
  {
   "cell_type": "code",
   "execution_count": null,
   "metadata": {},
   "outputs": [],
   "source": [
    "col_to_draw = 'yearOfConstruction' # col value corresponds grossfloorarea\n",
    "\n",
    "final_gdf[['geometry', col_to_draw]].plot(figsize = (25,35), column = col_to_draw, legend = True)\n",
    "plt.show()"
   ]
  },
  {
   "cell_type": "code",
   "execution_count": null,
   "metadata": {},
   "outputs": [],
   "source": [
    "final_gdf.columns\n",
    "# order_cols = ['ID', 'conditionOfConstruction', 'currentUse', 'yearOfConstruction', '']\n"
   ]
  },
  {
   "cell_type": "code",
   "execution_count": null,
   "metadata": {},
   "outputs": [],
   "source": [
    "final_2_gdf = gpd.sjoin(mad_gdf, final_gdf, op='within')"
   ]
  },
  {
   "cell_type": "code",
   "execution_count": null,
   "metadata": {},
   "outputs": [],
   "source": []
  },
  {
   "cell_type": "code",
   "execution_count": null,
   "metadata": {},
   "outputs": [],
   "source": [
    "display(final_2_gdf.head(2))\n",
    "display(final_2_gdf.shape)"
   ]
  },
  {
   "cell_type": "code",
   "execution_count": null,
   "metadata": {},
   "outputs": [],
   "source": [
    "col_to_draw = 'yearOfConstruction' # col value corresponds grossfloorarea\n",
    "\n",
    "final_2_gdf[['geometry', col_to_draw]].plot(figsize = (25,35), column = col_to_draw, legend = True)\n",
    "plt.show()"
   ]
  },
  {
   "cell_type": "code",
   "execution_count": null,
   "metadata": {},
   "outputs": [],
   "source": []
  }
 ],
 "metadata": {
  "kernelspec": {
   "display_name": "geoesp_env",
   "language": "python",
   "name": "geoesp_env"
  },
  "language_info": {
   "codemirror_mode": {
    "name": "ipython",
    "version": 3
   },
   "file_extension": ".py",
   "mimetype": "text/x-python",
   "name": "python",
   "nbconvert_exporter": "python",
   "pygments_lexer": "ipython3",
   "version": "3.7.9"
  }
 },
 "nbformat": 4,
 "nbformat_minor": 4
}
